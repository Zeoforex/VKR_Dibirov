{
 "cells": [
  {
   "cell_type": "code",
   "execution_count": 1,
   "id": "81f11bfe",
   "metadata": {
    "_cell_guid": "b1076dfc-b9ad-4769-8c92-a6c4dae69d19",
    "_uuid": "8f2839f25d086af736a60e9eeb907d3b93b6e0e5",
    "execution": {
     "iopub.execute_input": "2023-05-04T16:23:57.724773Z",
     "iopub.status.busy": "2023-05-04T16:23:57.724402Z",
     "iopub.status.idle": "2023-05-04T16:24:01.691793Z",
     "shell.execute_reply": "2023-05-04T16:24:01.690710Z"
    },
    "papermill": {
     "duration": 3.979511,
     "end_time": "2023-05-04T16:24:01.694639",
     "exception": false,
     "start_time": "2023-05-04T16:23:57.715128",
     "status": "completed"
    },
    "tags": []
   },
   "outputs": [
    {
     "name": "stderr",
     "output_type": "stream",
     "text": [
      "/opt/conda/lib/python3.10/site-packages/scipy/__init__.py:146: UserWarning: A NumPy version >=1.16.5 and <1.23.0 is required for this version of SciPy (detected version 1.23.5\n",
      "  warnings.warn(f\"A NumPy version >={np_minversion} and <{np_maxversion}\"\n"
     ]
    }
   ],
   "source": [
    "# dataframe and series \n",
    "import pandas as pd\n",
    "import numpy as np\n",
    "\n",
    "# sklearn imports for modeling part\n",
    "from sklearn.feature_extraction.text import TfidfVectorizer\n",
    "from sklearn.linear_model import LogisticRegression\n",
    "from sklearn.tree import DecisionTreeClassifier\n",
    "from sklearn.ensemble import RandomForestClassifier, ExtraTreesClassifier\n",
    "\n",
    "from sklearn.model_selection import cross_val_score\n",
    "from sklearn.metrics import accuracy_score,balanced_accuracy_score\n",
    "from sklearn.model_selection import train_test_split\n",
    "\n",
    "from mlxtend.evaluate import confusion_matrix\n",
    "from mlxtend.plotting import plot_confusion_matrix\n",
    "from mlxtend.plotting import plot_decision_regions\n",
    "\n",
    "from sklearn.model_selection import GridSearchCV\n",
    "from sklearn.metrics import roc_auc_score\n",
    "# To plot\n",
    "import matplotlib.pyplot as plt  \n",
    "%matplotlib inline    \n",
    "import matplotlib as mpl\n",
    "import seaborn as sns\n",
    "\n",
    "import nltk\n",
    "from nltk.corpus import stopwords\n",
    "\n",
    "# XGBoost and LGBM classifier imports\n",
    "import xgboost as xgb\n",
    "from xgboost import XGBClassifier\n",
    "\n",
    "import lightgbm as lgb\n",
    "from lightgbm import LGBMClassifier"
   ]
  },
  {
   "cell_type": "code",
   "execution_count": 2,
   "id": "df7c26ec",
   "metadata": {
    "execution": {
     "iopub.execute_input": "2023-05-04T16:24:01.712820Z",
     "iopub.status.busy": "2023-05-04T16:24:01.711942Z",
     "iopub.status.idle": "2023-05-04T16:24:32.812704Z",
     "shell.execute_reply": "2023-05-04T16:24:32.811571Z"
    },
    "papermill": {
     "duration": 31.118684,
     "end_time": "2023-05-04T16:24:32.822644",
     "exception": false,
     "start_time": "2023-05-04T16:24:01.703960",
     "status": "completed"
    },
    "tags": []
   },
   "outputs": [
    {
     "data": {
      "text/html": [
       "<div>\n",
       "<style scoped>\n",
       "    .dataframe tbody tr th:only-of-type {\n",
       "        vertical-align: middle;\n",
       "    }\n",
       "\n",
       "    .dataframe tbody tr th {\n",
       "        vertical-align: top;\n",
       "    }\n",
       "\n",
       "    .dataframe thead th {\n",
       "        text-align: right;\n",
       "    }\n",
       "</style>\n",
       "<table border=\"1\" class=\"dataframe\">\n",
       "  <thead>\n",
       "    <tr style=\"text-align: right;\">\n",
       "      <th></th>\n",
       "      <th>overall</th>\n",
       "      <th>verified</th>\n",
       "      <th>reviewTime</th>\n",
       "      <th>reviewerID</th>\n",
       "      <th>asin</th>\n",
       "      <th>style</th>\n",
       "      <th>reviewerName</th>\n",
       "      <th>reviewText</th>\n",
       "      <th>summary</th>\n",
       "      <th>unixReviewTime</th>\n",
       "      <th>review_clean</th>\n",
       "    </tr>\n",
       "  </thead>\n",
       "  <tbody>\n",
       "    <tr>\n",
       "      <th>0</th>\n",
       "      <td>5.0</td>\n",
       "      <td>True</td>\n",
       "      <td>11 9, 2012</td>\n",
       "      <td>A2M1CU2IRZG0K9</td>\n",
       "      <td>0005089549</td>\n",
       "      <td>{'Format:': ' VHS Tape'}</td>\n",
       "      <td>Terri</td>\n",
       "      <td>so sorry i didn't purchase this years ago when...</td>\n",
       "      <td>Amazing!</td>\n",
       "      <td>1352419200</td>\n",
       "      <td>so sorry i didnt purchase this years ago when ...</td>\n",
       "    </tr>\n",
       "    <tr>\n",
       "      <th>1</th>\n",
       "      <td>5.0</td>\n",
       "      <td>True</td>\n",
       "      <td>12 30, 2011</td>\n",
       "      <td>AFTUJYISOFHY6</td>\n",
       "      <td>0005089549</td>\n",
       "      <td>{'Format:': ' VHS Tape'}</td>\n",
       "      <td>Melissa D. Abercrombie</td>\n",
       "      <td>believe me when i tell you that you will recei...</td>\n",
       "      <td>Great Gospel VHS of the Cathedrals!</td>\n",
       "      <td>1325203200</td>\n",
       "      <td>believe me when i tell you that you will recei...</td>\n",
       "    </tr>\n",
       "    <tr>\n",
       "      <th>2</th>\n",
       "      <td>5.0</td>\n",
       "      <td>True</td>\n",
       "      <td>04 21, 2005</td>\n",
       "      <td>A3JVF9Y53BEOGC</td>\n",
       "      <td>000503860X</td>\n",
       "      <td>{'Format:': ' DVD'}</td>\n",
       "      <td>Anthony Thompson</td>\n",
       "      <td>i have seen x live many times, both in the ear...</td>\n",
       "      <td>A great document of a great band</td>\n",
       "      <td>1114041600</td>\n",
       "      <td>i have seen x live many times both in the earl...</td>\n",
       "    </tr>\n",
       "    <tr>\n",
       "      <th>3</th>\n",
       "      <td>5.0</td>\n",
       "      <td>True</td>\n",
       "      <td>04 6, 2005</td>\n",
       "      <td>A12VPEOEZS1KTC</td>\n",
       "      <td>000503860X</td>\n",
       "      <td>{'Format:': ' DVD'}</td>\n",
       "      <td>JadeRain</td>\n",
       "      <td>i was so excited for this!  finally, a live co...</td>\n",
       "      <td>YES!!  X LIVE!!</td>\n",
       "      <td>1112745600</td>\n",
       "      <td>i was so excited for this  finally a live conc...</td>\n",
       "    </tr>\n",
       "    <tr>\n",
       "      <th>4</th>\n",
       "      <td>5.0</td>\n",
       "      <td>True</td>\n",
       "      <td>12 3, 2010</td>\n",
       "      <td>ATLZNVLYKP9AZ</td>\n",
       "      <td>000503860X</td>\n",
       "      <td>{'Format:': ' DVD'}</td>\n",
       "      <td>T. Fisher</td>\n",
       "      <td>x is one of the best punk bands ever. i don't ...</td>\n",
       "      <td>X have still got it</td>\n",
       "      <td>1291334400</td>\n",
       "      <td>x is one of the best punk bands ever i dont ev...</td>\n",
       "    </tr>\n",
       "  </tbody>\n",
       "</table>\n",
       "</div>"
      ],
      "text/plain": [
       "   overall  verified   reviewTime      reviewerID        asin  \\\n",
       "0      5.0      True   11 9, 2012  A2M1CU2IRZG0K9  0005089549   \n",
       "1      5.0      True  12 30, 2011   AFTUJYISOFHY6  0005089549   \n",
       "2      5.0      True  04 21, 2005  A3JVF9Y53BEOGC  000503860X   \n",
       "3      5.0      True   04 6, 2005  A12VPEOEZS1KTC  000503860X   \n",
       "4      5.0      True   12 3, 2010   ATLZNVLYKP9AZ  000503860X   \n",
       "\n",
       "                      style            reviewerName  \\\n",
       "0  {'Format:': ' VHS Tape'}                   Terri   \n",
       "1  {'Format:': ' VHS Tape'}  Melissa D. Abercrombie   \n",
       "2       {'Format:': ' DVD'}        Anthony Thompson   \n",
       "3       {'Format:': ' DVD'}                JadeRain   \n",
       "4       {'Format:': ' DVD'}               T. Fisher   \n",
       "\n",
       "                                          reviewText  \\\n",
       "0  so sorry i didn't purchase this years ago when...   \n",
       "1  believe me when i tell you that you will recei...   \n",
       "2  i have seen x live many times, both in the ear...   \n",
       "3  i was so excited for this!  finally, a live co...   \n",
       "4  x is one of the best punk bands ever. i don't ...   \n",
       "\n",
       "                               summary  unixReviewTime  \\\n",
       "0                             Amazing!      1352419200   \n",
       "1  Great Gospel VHS of the Cathedrals!      1325203200   \n",
       "2     A great document of a great band      1114041600   \n",
       "3                      YES!!  X LIVE!!      1112745600   \n",
       "4                  X have still got it      1291334400   \n",
       "\n",
       "                                        review_clean  \n",
       "0  so sorry i didnt purchase this years ago when ...  \n",
       "1  believe me when i tell you that you will recei...  \n",
       "2  i have seen x live many times both in the earl...  \n",
       "3  i was so excited for this  finally a live conc...  \n",
       "4  x is one of the best punk bands ever i dont ev...  "
      ]
     },
     "execution_count": 2,
     "metadata": {},
     "output_type": "execute_result"
    }
   ],
   "source": [
    "data = pd.read_csv(\"/kaggle/input/data-work/data_work\")\n",
    "data['reviewText']=data['reviewText'].str.lower()\n",
    "import string\n",
    "string.punctuation \n",
    "def remove_punctuation(text):\n",
    "    '''this function splits the words to letters, remove punctuation and \n",
    "        again getting together letters as words '''\n",
    "    text_no_punc = \"\".join([c for c in text if c not in string.punctuation])\n",
    "    return text_no_punc\n",
    "data['review_clean'] = data['reviewText'].apply(lambda x: remove_punctuation(x))\n",
    "data.head()"
   ]
  },
  {
   "cell_type": "code",
   "execution_count": 3,
   "id": "128529c5",
   "metadata": {
    "execution": {
     "iopub.execute_input": "2023-05-04T16:24:32.838575Z",
     "iopub.status.busy": "2023-05-04T16:24:32.838188Z",
     "iopub.status.idle": "2023-05-04T16:24:33.032531Z",
     "shell.execute_reply": "2023-05-04T16:24:33.031345Z"
    },
    "papermill": {
     "duration": 0.20513,
     "end_time": "2023-05-04T16:24:33.034880",
     "exception": false,
     "start_time": "2023-05-04T16:24:32.829750",
     "status": "completed"
    },
    "tags": []
   },
   "outputs": [
    {
     "data": {
      "text/html": [
       "<div>\n",
       "<style scoped>\n",
       "    .dataframe tbody tr th:only-of-type {\n",
       "        vertical-align: middle;\n",
       "    }\n",
       "\n",
       "    .dataframe tbody tr th {\n",
       "        vertical-align: top;\n",
       "    }\n",
       "\n",
       "    .dataframe thead th {\n",
       "        text-align: right;\n",
       "    }\n",
       "</style>\n",
       "<table border=\"1\" class=\"dataframe\">\n",
       "  <thead>\n",
       "    <tr style=\"text-align: right;\">\n",
       "      <th></th>\n",
       "      <th>overall</th>\n",
       "      <th>verified</th>\n",
       "      <th>reviewTime</th>\n",
       "      <th>reviewerID</th>\n",
       "      <th>asin</th>\n",
       "      <th>style</th>\n",
       "      <th>reviewerName</th>\n",
       "      <th>reviewText</th>\n",
       "      <th>summary</th>\n",
       "      <th>unixReviewTime</th>\n",
       "      <th>review_clean</th>\n",
       "      <th>sentiment</th>\n",
       "    </tr>\n",
       "  </thead>\n",
       "  <tbody>\n",
       "    <tr>\n",
       "      <th>0</th>\n",
       "      <td>5.0</td>\n",
       "      <td>True</td>\n",
       "      <td>11 9, 2012</td>\n",
       "      <td>A2M1CU2IRZG0K9</td>\n",
       "      <td>0005089549</td>\n",
       "      <td>{'Format:': ' VHS Tape'}</td>\n",
       "      <td>Terri</td>\n",
       "      <td>so sorry i didn't purchase this years ago when...</td>\n",
       "      <td>Amazing!</td>\n",
       "      <td>1352419200</td>\n",
       "      <td>so sorry i didnt purchase this years ago when ...</td>\n",
       "      <td>2</td>\n",
       "    </tr>\n",
       "    <tr>\n",
       "      <th>1</th>\n",
       "      <td>5.0</td>\n",
       "      <td>True</td>\n",
       "      <td>12 30, 2011</td>\n",
       "      <td>AFTUJYISOFHY6</td>\n",
       "      <td>0005089549</td>\n",
       "      <td>{'Format:': ' VHS Tape'}</td>\n",
       "      <td>Melissa D. Abercrombie</td>\n",
       "      <td>believe me when i tell you that you will recei...</td>\n",
       "      <td>Great Gospel VHS of the Cathedrals!</td>\n",
       "      <td>1325203200</td>\n",
       "      <td>believe me when i tell you that you will recei...</td>\n",
       "      <td>2</td>\n",
       "    </tr>\n",
       "    <tr>\n",
       "      <th>2</th>\n",
       "      <td>5.0</td>\n",
       "      <td>True</td>\n",
       "      <td>04 21, 2005</td>\n",
       "      <td>A3JVF9Y53BEOGC</td>\n",
       "      <td>000503860X</td>\n",
       "      <td>{'Format:': ' DVD'}</td>\n",
       "      <td>Anthony Thompson</td>\n",
       "      <td>i have seen x live many times, both in the ear...</td>\n",
       "      <td>A great document of a great band</td>\n",
       "      <td>1114041600</td>\n",
       "      <td>i have seen x live many times both in the earl...</td>\n",
       "      <td>2</td>\n",
       "    </tr>\n",
       "    <tr>\n",
       "      <th>3</th>\n",
       "      <td>5.0</td>\n",
       "      <td>True</td>\n",
       "      <td>04 6, 2005</td>\n",
       "      <td>A12VPEOEZS1KTC</td>\n",
       "      <td>000503860X</td>\n",
       "      <td>{'Format:': ' DVD'}</td>\n",
       "      <td>JadeRain</td>\n",
       "      <td>i was so excited for this!  finally, a live co...</td>\n",
       "      <td>YES!!  X LIVE!!</td>\n",
       "      <td>1112745600</td>\n",
       "      <td>i was so excited for this  finally a live conc...</td>\n",
       "      <td>2</td>\n",
       "    </tr>\n",
       "    <tr>\n",
       "      <th>4</th>\n",
       "      <td>5.0</td>\n",
       "      <td>True</td>\n",
       "      <td>12 3, 2010</td>\n",
       "      <td>ATLZNVLYKP9AZ</td>\n",
       "      <td>000503860X</td>\n",
       "      <td>{'Format:': ' DVD'}</td>\n",
       "      <td>T. Fisher</td>\n",
       "      <td>x is one of the best punk bands ever. i don't ...</td>\n",
       "      <td>X have still got it</td>\n",
       "      <td>1291334400</td>\n",
       "      <td>x is one of the best punk bands ever i dont ev...</td>\n",
       "      <td>2</td>\n",
       "    </tr>\n",
       "    <tr>\n",
       "      <th>...</th>\n",
       "      <td>...</td>\n",
       "      <td>...</td>\n",
       "      <td>...</td>\n",
       "      <td>...</td>\n",
       "      <td>...</td>\n",
       "      <td>...</td>\n",
       "      <td>...</td>\n",
       "      <td>...</td>\n",
       "      <td>...</td>\n",
       "      <td>...</td>\n",
       "      <td>...</td>\n",
       "      <td>...</td>\n",
       "    </tr>\n",
       "    <tr>\n",
       "      <th>399995</th>\n",
       "      <td>5.0</td>\n",
       "      <td>True</td>\n",
       "      <td>08 31, 2017</td>\n",
       "      <td>A2RCR40SNWKRH7</td>\n",
       "      <td>B00065W99Y</td>\n",
       "      <td>{'Size Name:': ' 1 Gallon'}</td>\n",
       "      <td>The Dirt Guy</td>\n",
       "      <td>i used this cleaner as part of the first step ...</td>\n",
       "      <td>Amazing Cleaner</td>\n",
       "      <td>1504137600</td>\n",
       "      <td>i used this cleaner as part of the first step ...</td>\n",
       "      <td>2</td>\n",
       "    </tr>\n",
       "    <tr>\n",
       "      <th>399996</th>\n",
       "      <td>3.0</td>\n",
       "      <td>True</td>\n",
       "      <td>03 21, 2016</td>\n",
       "      <td>A2C8BZOZKGW57H</td>\n",
       "      <td>B000VK4Q4K</td>\n",
       "      <td>{'Style:': ' 85-Lumen'}</td>\n",
       "      <td>Joel C.</td>\n",
       "      <td>the flashlight is fairly cheaply made and i ha...</td>\n",
       "      <td>Once installed it worked great.</td>\n",
       "      <td>1458518400</td>\n",
       "      <td>the flashlight is fairly cheaply made and i ha...</td>\n",
       "      <td>1</td>\n",
       "    </tr>\n",
       "    <tr>\n",
       "      <th>399997</th>\n",
       "      <td>5.0</td>\n",
       "      <td>True</td>\n",
       "      <td>11 4, 2017</td>\n",
       "      <td>A3QX3TEN2FS31K</td>\n",
       "      <td>B000I97FHY</td>\n",
       "      <td>{'Color:': ' white'}</td>\n",
       "      <td>LEROY A DUCK</td>\n",
       "      <td>does what its suppose to.</td>\n",
       "      <td>Works well</td>\n",
       "      <td>1509753600</td>\n",
       "      <td>does what its suppose to</td>\n",
       "      <td>2</td>\n",
       "    </tr>\n",
       "    <tr>\n",
       "      <th>399998</th>\n",
       "      <td>5.0</td>\n",
       "      <td>True</td>\n",
       "      <td>05 31, 2015</td>\n",
       "      <td>A1QZU5ZZJC5QYI</td>\n",
       "      <td>B0035YRCR2</td>\n",
       "      <td>{'Style:': ' Paddle On/Off Switch'}</td>\n",
       "      <td>Rick C.</td>\n",
       "      <td>great</td>\n",
       "      <td>Five Stars</td>\n",
       "      <td>1433030400</td>\n",
       "      <td>great</td>\n",
       "      <td>2</td>\n",
       "    </tr>\n",
       "    <tr>\n",
       "      <th>399999</th>\n",
       "      <td>5.0</td>\n",
       "      <td>True</td>\n",
       "      <td>12 7, 2017</td>\n",
       "      <td>A29S2AT06P80QR</td>\n",
       "      <td>B00F429Z7S</td>\n",
       "      <td>{'Size:': ' 3/32\"', 'Style:': ' 10# Box'}</td>\n",
       "      <td>Amazon Customer</td>\n",
       "      <td>so far so good. welds decent.</td>\n",
       "      <td>Five Stars</td>\n",
       "      <td>1512604800</td>\n",
       "      <td>so far so good welds decent</td>\n",
       "      <td>2</td>\n",
       "    </tr>\n",
       "  </tbody>\n",
       "</table>\n",
       "<p>400000 rows × 12 columns</p>\n",
       "</div>"
      ],
      "text/plain": [
       "        overall  verified   reviewTime      reviewerID        asin  \\\n",
       "0           5.0      True   11 9, 2012  A2M1CU2IRZG0K9  0005089549   \n",
       "1           5.0      True  12 30, 2011   AFTUJYISOFHY6  0005089549   \n",
       "2           5.0      True  04 21, 2005  A3JVF9Y53BEOGC  000503860X   \n",
       "3           5.0      True   04 6, 2005  A12VPEOEZS1KTC  000503860X   \n",
       "4           5.0      True   12 3, 2010   ATLZNVLYKP9AZ  000503860X   \n",
       "...         ...       ...          ...             ...         ...   \n",
       "399995      5.0      True  08 31, 2017  A2RCR40SNWKRH7  B00065W99Y   \n",
       "399996      3.0      True  03 21, 2016  A2C8BZOZKGW57H  B000VK4Q4K   \n",
       "399997      5.0      True   11 4, 2017  A3QX3TEN2FS31K  B000I97FHY   \n",
       "399998      5.0      True  05 31, 2015  A1QZU5ZZJC5QYI  B0035YRCR2   \n",
       "399999      5.0      True   12 7, 2017  A29S2AT06P80QR  B00F429Z7S   \n",
       "\n",
       "                                            style            reviewerName  \\\n",
       "0                        {'Format:': ' VHS Tape'}                   Terri   \n",
       "1                        {'Format:': ' VHS Tape'}  Melissa D. Abercrombie   \n",
       "2                             {'Format:': ' DVD'}        Anthony Thompson   \n",
       "3                             {'Format:': ' DVD'}                JadeRain   \n",
       "4                             {'Format:': ' DVD'}               T. Fisher   \n",
       "...                                           ...                     ...   \n",
       "399995                {'Size Name:': ' 1 Gallon'}            The Dirt Guy   \n",
       "399996                    {'Style:': ' 85-Lumen'}                 Joel C.   \n",
       "399997                       {'Color:': ' white'}            LEROY A DUCK   \n",
       "399998        {'Style:': ' Paddle On/Off Switch'}                 Rick C.   \n",
       "399999  {'Size:': ' 3/32\"', 'Style:': ' 10# Box'}         Amazon Customer   \n",
       "\n",
       "                                               reviewText  \\\n",
       "0       so sorry i didn't purchase this years ago when...   \n",
       "1       believe me when i tell you that you will recei...   \n",
       "2       i have seen x live many times, both in the ear...   \n",
       "3       i was so excited for this!  finally, a live co...   \n",
       "4       x is one of the best punk bands ever. i don't ...   \n",
       "...                                                   ...   \n",
       "399995  i used this cleaner as part of the first step ...   \n",
       "399996  the flashlight is fairly cheaply made and i ha...   \n",
       "399997                          does what its suppose to.   \n",
       "399998                                              great   \n",
       "399999                      so far so good. welds decent.   \n",
       "\n",
       "                                    summary  unixReviewTime  \\\n",
       "0                                  Amazing!      1352419200   \n",
       "1       Great Gospel VHS of the Cathedrals!      1325203200   \n",
       "2          A great document of a great band      1114041600   \n",
       "3                           YES!!  X LIVE!!      1112745600   \n",
       "4                       X have still got it      1291334400   \n",
       "...                                     ...             ...   \n",
       "399995                      Amazing Cleaner      1504137600   \n",
       "399996      Once installed it worked great.      1458518400   \n",
       "399997                           Works well      1509753600   \n",
       "399998                           Five Stars      1433030400   \n",
       "399999                           Five Stars      1512604800   \n",
       "\n",
       "                                             review_clean  sentiment  \n",
       "0       so sorry i didnt purchase this years ago when ...          2  \n",
       "1       believe me when i tell you that you will recei...          2  \n",
       "2       i have seen x live many times both in the earl...          2  \n",
       "3       i was so excited for this  finally a live conc...          2  \n",
       "4       x is one of the best punk bands ever i dont ev...          2  \n",
       "...                                                   ...        ...  \n",
       "399995  i used this cleaner as part of the first step ...          2  \n",
       "399996  the flashlight is fairly cheaply made and i ha...          1  \n",
       "399997                           does what its suppose to          2  \n",
       "399998                                              great          2  \n",
       "399999                        so far so good welds decent          2  \n",
       "\n",
       "[400000 rows x 12 columns]"
      ]
     },
     "execution_count": 3,
     "metadata": {},
     "output_type": "execute_result"
    }
   ],
   "source": [
    "def calc_sentiment_with_neutral(overall):\n",
    "    '''encoding the sentiments of the ratings.'''\n",
    "    if overall == 5 or overall == 4:\n",
    "        return 2\n",
    "    elif overall == 1 or overall==2 : \n",
    "        return 0\n",
    "    else:\n",
    "        return 1\n",
    "data['sentiment'] = data['overall'].apply(calc_sentiment_with_neutral)\n",
    "data"
   ]
  },
  {
   "cell_type": "code",
   "execution_count": 4,
   "id": "a2914e2f",
   "metadata": {
    "execution": {
     "iopub.execute_input": "2023-05-04T16:24:33.051885Z",
     "iopub.status.busy": "2023-05-04T16:24:33.051335Z",
     "iopub.status.idle": "2023-05-04T16:24:33.226566Z",
     "shell.execute_reply": "2023-05-04T16:24:33.225334Z"
    },
    "papermill": {
     "duration": 0.186896,
     "end_time": "2023-05-04T16:24:33.229312",
     "exception": false,
     "start_time": "2023-05-04T16:24:33.042416",
     "status": "completed"
    },
    "tags": []
   },
   "outputs": [
    {
     "data": {
      "text/plain": [
       "1    370010\n",
       "0     29990\n",
       "Name: sentiment, dtype: int64"
      ]
     },
     "execution_count": 4,
     "metadata": {},
     "output_type": "execute_result"
    }
   ],
   "source": [
    "def calc_two_sentiment(overall):\n",
    "    '''This function encodes the rating 1 and 2 as 0, others as 1'''\n",
    "    if overall >= 3:\n",
    "        return 1\n",
    "    else:\n",
    "        return 0\n",
    "data['sentiment'] = data['overall'].apply(calc_two_sentiment)\n",
    "data['sentiment'].value_counts()"
   ]
  },
  {
   "cell_type": "code",
   "execution_count": 5,
   "id": "7c410b71",
   "metadata": {
    "execution": {
     "iopub.execute_input": "2023-05-04T16:24:33.246853Z",
     "iopub.status.busy": "2023-05-04T16:24:33.246133Z",
     "iopub.status.idle": "2023-05-04T16:24:33.415473Z",
     "shell.execute_reply": "2023-05-04T16:24:33.414587Z"
    },
    "papermill": {
     "duration": 0.18095,
     "end_time": "2023-05-04T16:24:33.417967",
     "exception": false,
     "start_time": "2023-05-04T16:24:33.237017",
     "status": "completed"
    },
    "tags": []
   },
   "outputs": [],
   "source": [
    "data_0 = data.loc[data['sentiment']==0].head(50000)\n",
    "data_1 = data.loc[data['sentiment']==1].head(50000)"
   ]
  },
  {
   "cell_type": "code",
   "execution_count": 6,
   "id": "8e497096",
   "metadata": {
    "execution": {
     "iopub.execute_input": "2023-05-04T16:24:33.435789Z",
     "iopub.status.busy": "2023-05-04T16:24:33.434829Z",
     "iopub.status.idle": "2023-05-04T16:24:33.465315Z",
     "shell.execute_reply": "2023-05-04T16:24:33.464402Z"
    },
    "papermill": {
     "duration": 0.042028,
     "end_time": "2023-05-04T16:24:33.467852",
     "exception": false,
     "start_time": "2023-05-04T16:24:33.425824",
     "status": "completed"
    },
    "tags": []
   },
   "outputs": [],
   "source": [
    "frames = [data_0, data_1]\n",
    "data_sampled = pd.concat(frames)"
   ]
  },
  {
   "cell_type": "code",
   "execution_count": 7,
   "id": "ee7094d5",
   "metadata": {
    "execution": {
     "iopub.execute_input": "2023-05-04T16:24:33.485556Z",
     "iopub.status.busy": "2023-05-04T16:24:33.485187Z",
     "iopub.status.idle": "2023-05-04T16:24:33.504761Z",
     "shell.execute_reply": "2023-05-04T16:24:33.503985Z"
    },
    "papermill": {
     "duration": 0.031663,
     "end_time": "2023-05-04T16:24:33.507471",
     "exception": false,
     "start_time": "2023-05-04T16:24:33.475808",
     "status": "completed"
    },
    "tags": []
   },
   "outputs": [
    {
     "data": {
      "text/html": [
       "<div>\n",
       "<style scoped>\n",
       "    .dataframe tbody tr th:only-of-type {\n",
       "        vertical-align: middle;\n",
       "    }\n",
       "\n",
       "    .dataframe tbody tr th {\n",
       "        vertical-align: top;\n",
       "    }\n",
       "\n",
       "    .dataframe thead th {\n",
       "        text-align: right;\n",
       "    }\n",
       "</style>\n",
       "<table border=\"1\" class=\"dataframe\">\n",
       "  <thead>\n",
       "    <tr style=\"text-align: right;\">\n",
       "      <th></th>\n",
       "      <th>overall</th>\n",
       "      <th>verified</th>\n",
       "      <th>reviewTime</th>\n",
       "      <th>reviewerID</th>\n",
       "      <th>asin</th>\n",
       "      <th>style</th>\n",
       "      <th>reviewerName</th>\n",
       "      <th>reviewText</th>\n",
       "      <th>summary</th>\n",
       "      <th>unixReviewTime</th>\n",
       "      <th>review_clean</th>\n",
       "      <th>sentiment</th>\n",
       "    </tr>\n",
       "  </thead>\n",
       "  <tbody>\n",
       "    <tr>\n",
       "      <th>16</th>\n",
       "      <td>2.0</td>\n",
       "      <td>True</td>\n",
       "      <td>05 2, 2014</td>\n",
       "      <td>A38KRRY00H5TEY</td>\n",
       "      <td>0005092663</td>\n",
       "      <td>{'Format:': ' VHS Tape'}</td>\n",
       "      <td>Trish</td>\n",
       "      <td>while there was a lot of information in this p...</td>\n",
       "      <td>Lots of Info. But Mostly a Right-Wing Agenda P...</td>\n",
       "      <td>1398988800</td>\n",
       "      <td>while there was a lot of information in this p...</td>\n",
       "      <td>0</td>\n",
       "    </tr>\n",
       "    <tr>\n",
       "      <th>67</th>\n",
       "      <td>2.0</td>\n",
       "      <td>True</td>\n",
       "      <td>12 29, 2016</td>\n",
       "      <td>A3BPS2OLX3B2TO</td>\n",
       "      <td>0005019281</td>\n",
       "      <td>{'Format:': ' Amazon Video'}</td>\n",
       "      <td>SabinaDeMartini</td>\n",
       "      <td>hate to say it, but this is an example of a re...</td>\n",
       "      <td>Stick with the classic version</td>\n",
       "      <td>1482969600</td>\n",
       "      <td>hate to say it but this is an example of a rem...</td>\n",
       "      <td>0</td>\n",
       "    </tr>\n",
       "    <tr>\n",
       "      <th>72</th>\n",
       "      <td>1.0</td>\n",
       "      <td>True</td>\n",
       "      <td>12 28, 2016</td>\n",
       "      <td>A35VHR4L8HF3RQ</td>\n",
       "      <td>0005019281</td>\n",
       "      <td>{'Format:': ' Amazon Video'}</td>\n",
       "      <td>kell</td>\n",
       "      <td>did not like</td>\n",
       "      <td>One Star</td>\n",
       "      <td>1482883200</td>\n",
       "      <td>did not like</td>\n",
       "      <td>0</td>\n",
       "    </tr>\n",
       "    <tr>\n",
       "      <th>89</th>\n",
       "      <td>2.0</td>\n",
       "      <td>True</td>\n",
       "      <td>12 23, 2016</td>\n",
       "      <td>A1L2DLWYRNHKDR</td>\n",
       "      <td>0005019281</td>\n",
       "      <td>{'Format:': ' Amazon Video'}</td>\n",
       "      <td>Yiannis P</td>\n",
       "      <td>pathetic reproduction of the dickens classic. ...</td>\n",
       "      <td>Don't Bother: Read the News</td>\n",
       "      <td>1482451200</td>\n",
       "      <td>pathetic reproduction of the dickens classic i...</td>\n",
       "      <td>0</td>\n",
       "    </tr>\n",
       "    <tr>\n",
       "      <th>95</th>\n",
       "      <td>1.0</td>\n",
       "      <td>True</td>\n",
       "      <td>12 20, 2016</td>\n",
       "      <td>A1A0ZTO3NSSQ1O</td>\n",
       "      <td>0005019281</td>\n",
       "      <td>{'Format:': ' Amazon Video'}</td>\n",
       "      <td>TocyRN</td>\n",
       "      <td>slow moving. boring.  never finished it.</td>\n",
       "      <td>Boring. Never finished it</td>\n",
       "      <td>1482192000</td>\n",
       "      <td>slow moving boring  never finished it</td>\n",
       "      <td>0</td>\n",
       "    </tr>\n",
       "    <tr>\n",
       "      <th>...</th>\n",
       "      <td>...</td>\n",
       "      <td>...</td>\n",
       "      <td>...</td>\n",
       "      <td>...</td>\n",
       "      <td>...</td>\n",
       "      <td>...</td>\n",
       "      <td>...</td>\n",
       "      <td>...</td>\n",
       "      <td>...</td>\n",
       "      <td>...</td>\n",
       "      <td>...</td>\n",
       "      <td>...</td>\n",
       "    </tr>\n",
       "    <tr>\n",
       "      <th>53849</th>\n",
       "      <td>5.0</td>\n",
       "      <td>True</td>\n",
       "      <td>05 6, 2016</td>\n",
       "      <td>A3RIYMWJX6BLPT</td>\n",
       "      <td>0792146433</td>\n",
       "      <td>{'Format:': ' Amazon Video'}</td>\n",
       "      <td>Michael Casey</td>\n",
       "      <td>every season just gets better and better.  i l...</td>\n",
       "      <td>Five Stars</td>\n",
       "      <td>1462492800</td>\n",
       "      <td>every season just gets better and better  i lo...</td>\n",
       "      <td>1</td>\n",
       "    </tr>\n",
       "    <tr>\n",
       "      <th>53850</th>\n",
       "      <td>5.0</td>\n",
       "      <td>True</td>\n",
       "      <td>05 6, 2016</td>\n",
       "      <td>A219HTR7936G41</td>\n",
       "      <td>0792146433</td>\n",
       "      <td>{'Format:': ' Amazon Video'}</td>\n",
       "      <td>shelley</td>\n",
       "      <td>great, love it</td>\n",
       "      <td>Five Stars</td>\n",
       "      <td>1462492800</td>\n",
       "      <td>great love it</td>\n",
       "      <td>1</td>\n",
       "    </tr>\n",
       "    <tr>\n",
       "      <th>53851</th>\n",
       "      <td>5.0</td>\n",
       "      <td>True</td>\n",
       "      <td>05 1, 2016</td>\n",
       "      <td>A2OT9HBPDR1UW6</td>\n",
       "      <td>0792146433</td>\n",
       "      <td>{'Format:': ' DVD'}</td>\n",
       "      <td>Katherine Schwarz</td>\n",
       "      <td>excellent series</td>\n",
       "      <td>Five Stars</td>\n",
       "      <td>1462060800</td>\n",
       "      <td>excellent series</td>\n",
       "      <td>1</td>\n",
       "    </tr>\n",
       "    <tr>\n",
       "      <th>53852</th>\n",
       "      <td>5.0</td>\n",
       "      <td>True</td>\n",
       "      <td>04 30, 2016</td>\n",
       "      <td>A1MM6PU8E3VZ5L</td>\n",
       "      <td>0792146433</td>\n",
       "      <td>{'Format:': ' DVD'}</td>\n",
       "      <td>A. Nathaniel Wallace, Jr.</td>\n",
       "      <td>the fifth season of star trek deep space nine ...</td>\n",
       "      <td>The Best Season Thus Far Minus The New Uniforms!</td>\n",
       "      <td>1461974400</td>\n",
       "      <td>the fifth season of star trek deep space nine ...</td>\n",
       "      <td>1</td>\n",
       "    </tr>\n",
       "    <tr>\n",
       "      <th>53853</th>\n",
       "      <td>5.0</td>\n",
       "      <td>True</td>\n",
       "      <td>04 20, 2016</td>\n",
       "      <td>ANRZ1WHMCSL2Y</td>\n",
       "      <td>0792146433</td>\n",
       "      <td>{'Format:': ' Amazon Video'}</td>\n",
       "      <td>Cheryl Wilson</td>\n",
       "      <td>great</td>\n",
       "      <td>Five Stars</td>\n",
       "      <td>1461110400</td>\n",
       "      <td>great</td>\n",
       "      <td>1</td>\n",
       "    </tr>\n",
       "  </tbody>\n",
       "</table>\n",
       "<p>79990 rows × 12 columns</p>\n",
       "</div>"
      ],
      "text/plain": [
       "       overall  verified   reviewTime      reviewerID        asin  \\\n",
       "16         2.0      True   05 2, 2014  A38KRRY00H5TEY  0005092663   \n",
       "67         2.0      True  12 29, 2016  A3BPS2OLX3B2TO  0005019281   \n",
       "72         1.0      True  12 28, 2016  A35VHR4L8HF3RQ  0005019281   \n",
       "89         2.0      True  12 23, 2016  A1L2DLWYRNHKDR  0005019281   \n",
       "95         1.0      True  12 20, 2016  A1A0ZTO3NSSQ1O  0005019281   \n",
       "...        ...       ...          ...             ...         ...   \n",
       "53849      5.0      True   05 6, 2016  A3RIYMWJX6BLPT  0792146433   \n",
       "53850      5.0      True   05 6, 2016  A219HTR7936G41  0792146433   \n",
       "53851      5.0      True   05 1, 2016  A2OT9HBPDR1UW6  0792146433   \n",
       "53852      5.0      True  04 30, 2016  A1MM6PU8E3VZ5L  0792146433   \n",
       "53853      5.0      True  04 20, 2016   ANRZ1WHMCSL2Y  0792146433   \n",
       "\n",
       "                              style               reviewerName  \\\n",
       "16         {'Format:': ' VHS Tape'}                      Trish   \n",
       "67     {'Format:': ' Amazon Video'}            SabinaDeMartini   \n",
       "72     {'Format:': ' Amazon Video'}                       kell   \n",
       "89     {'Format:': ' Amazon Video'}                  Yiannis P   \n",
       "95     {'Format:': ' Amazon Video'}                     TocyRN   \n",
       "...                             ...                        ...   \n",
       "53849  {'Format:': ' Amazon Video'}              Michael Casey   \n",
       "53850  {'Format:': ' Amazon Video'}                    shelley   \n",
       "53851           {'Format:': ' DVD'}          Katherine Schwarz   \n",
       "53852           {'Format:': ' DVD'}  A. Nathaniel Wallace, Jr.   \n",
       "53853  {'Format:': ' Amazon Video'}              Cheryl Wilson   \n",
       "\n",
       "                                              reviewText  \\\n",
       "16     while there was a lot of information in this p...   \n",
       "67     hate to say it, but this is an example of a re...   \n",
       "72                                          did not like   \n",
       "89     pathetic reproduction of the dickens classic. ...   \n",
       "95              slow moving. boring.  never finished it.   \n",
       "...                                                  ...   \n",
       "53849  every season just gets better and better.  i l...   \n",
       "53850                                     great, love it   \n",
       "53851                                   excellent series   \n",
       "53852  the fifth season of star trek deep space nine ...   \n",
       "53853                                              great   \n",
       "\n",
       "                                                 summary  unixReviewTime  \\\n",
       "16     Lots of Info. But Mostly a Right-Wing Agenda P...      1398988800   \n",
       "67                        Stick with the classic version      1482969600   \n",
       "72                                              One Star      1482883200   \n",
       "89                           Don't Bother: Read the News      1482451200   \n",
       "95                             Boring. Never finished it      1482192000   \n",
       "...                                                  ...             ...   \n",
       "53849                                         Five Stars      1462492800   \n",
       "53850                                         Five Stars      1462492800   \n",
       "53851                                         Five Stars      1462060800   \n",
       "53852   The Best Season Thus Far Minus The New Uniforms!      1461974400   \n",
       "53853                                         Five Stars      1461110400   \n",
       "\n",
       "                                            review_clean  sentiment  \n",
       "16     while there was a lot of information in this p...          0  \n",
       "67     hate to say it but this is an example of a rem...          0  \n",
       "72                                          did not like          0  \n",
       "89     pathetic reproduction of the dickens classic i...          0  \n",
       "95                 slow moving boring  never finished it          0  \n",
       "...                                                  ...        ...  \n",
       "53849  every season just gets better and better  i lo...          1  \n",
       "53850                                      great love it          1  \n",
       "53851                                   excellent series          1  \n",
       "53852  the fifth season of star trek deep space nine ...          1  \n",
       "53853                                              great          1  \n",
       "\n",
       "[79990 rows x 12 columns]"
      ]
     },
     "execution_count": 7,
     "metadata": {},
     "output_type": "execute_result"
    }
   ],
   "source": [
    "data_sampled"
   ]
  },
  {
   "cell_type": "markdown",
   "id": "b59c220b",
   "metadata": {
    "papermill": {
     "duration": 0.007997,
     "end_time": "2023-05-04T16:24:33.523819",
     "exception": false,
     "start_time": "2023-05-04T16:24:33.515822",
     "status": "completed"
    },
    "tags": []
   },
   "source": [
    "### Теперь посмотрим на модели машинного обучения\n",
    "Первым идет обычный классификатор на основе логистической регрессии"
   ]
  },
  {
   "cell_type": "code",
   "execution_count": 8,
   "id": "cd6533e4",
   "metadata": {
    "execution": {
     "iopub.execute_input": "2023-05-04T16:24:33.542027Z",
     "iopub.status.busy": "2023-05-04T16:24:33.541007Z",
     "iopub.status.idle": "2023-05-04T16:24:33.551754Z",
     "shell.execute_reply": "2023-05-04T16:24:33.550840Z"
    },
    "papermill": {
     "duration": 0.022265,
     "end_time": "2023-05-04T16:24:33.554133",
     "exception": false,
     "start_time": "2023-05-04T16:24:33.531868",
     "status": "completed"
    },
    "tags": []
   },
   "outputs": [],
   "source": [
    "def model_split(df) :\n",
    "    '''This function splits data to train and test, then vectorized reviews '''\n",
    "    \n",
    "    # split train-test\n",
    "    X_train, X_test, y_train, y_test = train_test_split(df['review_clean'], \n",
    "                                                        df['sentiment'], test_size=0.2, random_state=42)\n",
    "    print(X_train.shape)\n",
    "    print(X_test.shape)\n",
    "        \n",
    "    # define vectorize and fit to data     \n",
    "    word_vectorizer = TfidfVectorizer(sublinear_tf=True,strip_accents='unicode',\n",
    "        analyzer='word',token_pattern=r'\\w{1,}',stop_words='english',\n",
    "        ngram_range=(1, 1),max_features=10000)\n",
    "\n",
    "    word_vectorizer.fit(df['review_clean'])\n",
    "    \n",
    "    # train - test vectorized features - tranforming to suitable format for modeling\n",
    "    train_word_features = word_vectorizer.transform(X_train) \n",
    "    test_word_features = word_vectorizer.transform(X_test)\n",
    "    \n",
    "    return train_word_features , test_word_features, y_train, y_test \n",
    "\n",
    "def model(df,classifier):\n",
    "    '''this function gives modeling results and confusion matrix also'''\n",
    "    train_word_features,test_word_features,y_train,y_test = model_split(df)\n",
    "    classifier.fit(train_word_features, y_train)\n",
    "    \n",
    "    # calculating results \n",
    "    y_pred_train = classifier.predict(train_word_features)\n",
    "    y_pred = classifier.predict(test_word_features)\n",
    "    \n",
    "    #for smart printing (learned from our lead instructor Bryan Arnold)\n",
    "    print(\"Accuracy:\"); print(\"=\"*len(\"Accuracy:\"))\n",
    "    print(f\"TRAIN: {accuracy_score(y_train, y_pred_train)}\")\n",
    "    print(f\"TEST: {accuracy_score(y_test, y_pred)}\")\n",
    "\n",
    "    print(\"\\nBalanced Accuracy:\"); print(\"=\"*len(\"Balanced Accuracy:\"))\n",
    "    print(f\"TRAIN: {balanced_accuracy_score(y_train, y_pred_train)}\")\n",
    "    print(f\"TEST: {balanced_accuracy_score(y_test, y_pred)}\")\n",
    "    \n",
    "    # plot confusion matrix\n",
    "    cm = confusion_matrix(y_test, y_pred)\n",
    "    plot_confusion_matrix(cm)\n",
    "    plt.show()\n"
   ]
  },
  {
   "cell_type": "code",
   "execution_count": 9,
   "id": "1ed86cf6",
   "metadata": {
    "execution": {
     "iopub.execute_input": "2023-05-04T16:24:33.571793Z",
     "iopub.status.busy": "2023-05-04T16:24:33.571432Z",
     "iopub.status.idle": "2023-05-04T16:24:46.396078Z",
     "shell.execute_reply": "2023-05-04T16:24:46.394466Z"
    },
    "papermill": {
     "duration": 12.838038,
     "end_time": "2023-05-04T16:24:46.400198",
     "exception": false,
     "start_time": "2023-05-04T16:24:33.562160",
     "status": "completed"
    },
    "tags": []
   },
   "outputs": [
    {
     "name": "stdout",
     "output_type": "stream",
     "text": [
      "(63992,)\n",
      "(15998,)\n",
      "Accuracy:\n",
      "=========\n",
      "TRAIN: 0.9036442055256907\n",
      "TEST: 0.8902987873484186\n",
      "\n",
      "Balanced Accuracy:\n",
      "==================\n",
      "TRAIN: 0.9040826279079852\n",
      "TEST: 0.8903353753794114\n"
     ]
    },
    {
     "data": {
      "image/png": "[encoded data removed]",
      "text/plain": [
       "<Figure size 640x480 with 1 Axes>"
      ]
     },
     "metadata": {},
     "output_type": "display_data"
    }
   ],
   "source": [
    "# выбор и запуск\n",
    "classifier = LogisticRegression(class_weight = \"balanced\", C=0.5, solver='sag')\n",
    "model(data_sampled,classifier)"
   ]
  },
  {
   "cell_type": "code",
   "execution_count": 10,
   "id": "10c81cd7",
   "metadata": {
    "execution": {
     "iopub.execute_input": "2023-05-04T16:24:46.431237Z",
     "iopub.status.busy": "2023-05-04T16:24:46.430875Z",
     "iopub.status.idle": "2023-05-04T16:25:00.150623Z",
     "shell.execute_reply": "2023-05-04T16:25:00.149358Z"
    },
    "papermill": {
     "duration": 13.731984,
     "end_time": "2023-05-04T16:25:00.152892",
     "exception": false,
     "start_time": "2023-05-04T16:24:46.420908",
     "status": "completed"
    },
    "tags": []
   },
   "outputs": [
    {
     "name": "stdout",
     "output_type": "stream",
     "text": [
      "0.8997289047368464 +/- 0.010724126024539888\n"
     ]
    }
   ],
   "source": [
    "# vectorize data for calculation\n",
    "word_vectorizer = TfidfVectorizer(sublinear_tf=True,strip_accents='unicode',\n",
    "        analyzer='word',token_pattern=r'\\w{1,}',stop_words='english',\n",
    "        ngram_range=(1, 1),max_features=10000)\n",
    "\n",
    "word_vectorizer.fit(data_sampled['review_clean'])\n",
    "    \n",
    "word_features = word_vectorizer.transform(data_sampled['review_clean'])\n",
    "\n",
    "scores = cross_val_score(classifier, word_features, data_sampled['sentiment'], cv=3, scoring='roc_auc')\n",
    "print(scores.mean(), \"+/-\", scores.std())"
   ]
  },
  {
   "cell_type": "markdown",
   "id": "0e6d8e81",
   "metadata": {
    "papermill": {
     "duration": 0.008046,
     "end_time": "2023-05-04T16:25:00.169913",
     "exception": false,
     "start_time": "2023-05-04T16:25:00.161867",
     "status": "completed"
    },
    "tags": []
   },
   "source": [
    "Как видно значение близко к 1 что непременно хорошо."
   ]
  },
  {
   "cell_type": "markdown",
   "id": "c15106a5",
   "metadata": {
    "papermill": {
     "duration": 0.008096,
     "end_time": "2023-05-04T16:25:00.186279",
     "exception": false,
     "start_time": "2023-05-04T16:25:00.178183",
     "status": "completed"
    },
    "tags": []
   },
   "source": [
    "## Классификатор дерева решений"
   ]
  },
  {
   "cell_type": "code",
   "execution_count": 11,
   "id": "570a6be6",
   "metadata": {
    "execution": {
     "iopub.execute_input": "2023-05-04T16:25:00.204993Z",
     "iopub.status.busy": "2023-05-04T16:25:00.204587Z",
     "iopub.status.idle": "2023-05-04T16:25:13.632767Z",
     "shell.execute_reply": "2023-05-04T16:25:13.631307Z"
    },
    "papermill": {
     "duration": 13.440508,
     "end_time": "2023-05-04T16:25:13.635118",
     "exception": false,
     "start_time": "2023-05-04T16:25:00.194610",
     "status": "completed"
    },
    "tags": []
   },
   "outputs": [
    {
     "name": "stdout",
     "output_type": "stream",
     "text": [
      "(63992,)\n",
      "(15998,)\n",
      "Accuracy:\n",
      "=========\n",
      "TRAIN: 0.6341886485810726\n",
      "TEST: 0.6278909863732967\n",
      "\n",
      "Balanced Accuracy:\n",
      "==================\n",
      "TRAIN: 0.6377583361009042\n",
      "TEST: 0.6309107133725527\n"
     ]
    },
    {
     "data": {
      "image/png": "[encoded data removed]",
      "text/plain": [
       "<Figure size 640x480 with 1 Axes>"
      ]
     },
     "metadata": {},
     "output_type": "display_data"
    }
   ],
   "source": [
    "des_tree = DecisionTreeClassifier(criterion='entropy', max_depth=4, min_samples_leaf=5, \n",
    "                                        random_state=42, class_weight='balanced')\n",
    "model(data_sampled,des_tree)"
   ]
  },
  {
   "cell_type": "markdown",
   "id": "77b5a24f",
   "metadata": {
    "papermill": {
     "duration": 0.008535,
     "end_time": "2023-05-04T16:25:13.652594",
     "exception": false,
     "start_time": "2023-05-04T16:25:13.644059",
     "status": "completed"
    },
    "tags": []
   },
   "source": [
    "Здесь все довольно плохо и точность уже 63%"
   ]
  },
  {
   "cell_type": "markdown",
   "id": "47b26ec2",
   "metadata": {
    "papermill": {
     "duration": 0.008513,
     "end_time": "2023-05-04T16:25:13.669936",
     "exception": false,
     "start_time": "2023-05-04T16:25:13.661423",
     "status": "completed"
    },
    "tags": []
   },
   "source": [
    "## Random Forest"
   ]
  },
  {
   "cell_type": "code",
   "execution_count": 12,
   "id": "ca13dc06",
   "metadata": {
    "execution": {
     "iopub.execute_input": "2023-05-04T16:25:13.688793Z",
     "iopub.status.busy": "2023-05-04T16:25:13.688406Z",
     "iopub.status.idle": "2023-05-04T16:26:44.750140Z",
     "shell.execute_reply": "2023-05-04T16:26:44.749052Z"
    },
    "papermill": {
     "duration": 91.082712,
     "end_time": "2023-05-04T16:26:44.761240",
     "exception": false,
     "start_time": "2023-05-04T16:25:13.678528",
     "status": "completed"
    },
    "tags": []
   },
   "outputs": [
    {
     "name": "stdout",
     "output_type": "stream",
     "text": [
      "(63992,)\n",
      "(15998,)\n",
      "Accuracy:\n",
      "=========\n",
      "TRAIN: 0.9915770721340168\n",
      "TEST: 0.8642955369421178\n",
      "\n",
      "Balanced Accuracy:\n",
      "==================\n",
      "TRAIN: 0.9898848234686818\n",
      "TEST: 0.8475362584439718\n"
     ]
    },
    {
     "data": {
      "image/png": "[encoded data removed]",
      "text/plain": [
       "<Figure size 640x480 with 1 Axes>"
      ]
     },
     "metadata": {},
     "output_type": "display_data"
    }
   ],
   "source": [
    "rf = RandomForestClassifier(n_estimators=100, random_state=42, n_jobs=-1,class_weight='balanced',\n",
    "                            criterion = 'entropy',max_features = 'sqrt',min_samples_split = 5)\n",
    "model(data_sampled,rf)"
   ]
  },
  {
   "cell_type": "code",
   "execution_count": 13,
   "id": "19a5e3f1",
   "metadata": {
    "execution": {
     "iopub.execute_input": "2023-05-04T16:26:44.782537Z",
     "iopub.status.busy": "2023-05-04T16:26:44.781433Z",
     "iopub.status.idle": "2023-05-04T17:29:48.864201Z",
     "shell.execute_reply": "2023-05-04T17:29:48.862709Z"
    },
    "papermill": {
     "duration": 3784.104553,
     "end_time": "2023-05-04T17:29:48.875176",
     "exception": false,
     "start_time": "2023-05-04T16:26:44.770623",
     "status": "completed"
    },
    "tags": []
   },
   "outputs": [
    {
     "name": "stderr",
     "output_type": "stream",
     "text": [
      "/opt/conda/lib/python3.10/site-packages/scipy/__init__.py:146: UserWarning: A NumPy version >=1.16.5 and <1.23.0 is required for this version of SciPy (detected version 1.23.5\n",
      "  warnings.warn(f\"A NumPy version >={np_minversion} and <{np_maxversion}\"\n",
      "/opt/conda/lib/python3.10/site-packages/scipy/__init__.py:146: UserWarning: A NumPy version >=1.16.5 and <1.23.0 is required for this version of SciPy (detected version 1.23.5\n",
      "  warnings.warn(f\"A NumPy version >={np_minversion} and <{np_maxversion}\"\n",
      "/opt/conda/lib/python3.10/site-packages/scipy/__init__.py:146: UserWarning: A NumPy version >=1.16.5 and <1.23.0 is required for this version of SciPy (detected version 1.23.5\n",
      "  warnings.warn(f\"A NumPy version >={np_minversion} and <{np_maxversion}\"\n",
      "/opt/conda/lib/python3.10/site-packages/scipy/__init__.py:146: UserWarning: A NumPy version >=1.16.5 and <1.23.0 is required for this version of SciPy (detected version 1.23.5\n",
      "  warnings.warn(f\"A NumPy version >={np_minversion} and <{np_maxversion}\"\n"
     ]
    },
    {
     "data": {
      "text/html": [
       "<style>#sk-container-id-1 {color: black;background-color: white;}#sk-container-id-1 pre{padding: 0;}#sk-container-id-1 div.sk-toggleable {background-color: white;}#sk-container-id-1 label.sk-toggleable__label {cursor: pointer;display: block;width: 100%;margin-bottom: 0;padding: 0.3em;box-sizing: border-box;text-align: center;}#sk-container-id-1 label.sk-toggleable__label-arrow:before {content: \"▸\";float: left;margin-right: 0.25em;color: #696969;}#sk-container-id-1 label.sk-toggleable__label-arrow:hover:before {color: black;}#sk-container-id-1 div.sk-estimator:hover label.sk-toggleable__label-arrow:before {color: black;}#sk-container-id-1 div.sk-toggleable__content {max-height: 0;max-width: 0;overflow: hidden;text-align: left;background-color: #f0f8ff;}#sk-container-id-1 div.sk-toggleable__content pre {margin: 0.2em;color: black;border-radius: 0.25em;background-color: #f0f8ff;}#sk-container-id-1 input.sk-toggleable__control:checked~div.sk-toggleable__content {max-height: 200px;max-width: 100%;overflow: auto;}#sk-container-id-1 input.sk-toggleable__control:checked~label.sk-toggleable__label-arrow:before {content: \"▾\";}#sk-container-id-1 div.sk-estimator input.sk-toggleable__control:checked~label.sk-toggleable__label {background-color: #d4ebff;}#sk-container-id-1 div.sk-label input.sk-toggleable__control:checked~label.sk-toggleable__label {background-color: #d4ebff;}#sk-container-id-1 input.sk-hidden--visually {border: 0;clip: rect(1px 1px 1px 1px);clip: rect(1px, 1px, 1px, 1px);height: 1px;margin: -1px;overflow: hidden;padding: 0;position: absolute;width: 1px;}#sk-container-id-1 div.sk-estimator {font-family: monospace;background-color: #f0f8ff;border: 1px dotted black;border-radius: 0.25em;box-sizing: border-box;margin-bottom: 0.5em;}#sk-container-id-1 div.sk-estimator:hover {background-color: #d4ebff;}#sk-container-id-1 div.sk-parallel-item::after {content: \"\";width: 100%;border-bottom: 1px solid gray;flex-grow: 1;}#sk-container-id-1 div.sk-label:hover label.sk-toggleable__label {background-color: #d4ebff;}#sk-container-id-1 div.sk-serial::before {content: \"\";position: absolute;border-left: 1px solid gray;box-sizing: border-box;top: 0;bottom: 0;left: 50%;z-index: 0;}#sk-container-id-1 div.sk-serial {display: flex;flex-direction: column;align-items: center;background-color: white;padding-right: 0.2em;padding-left: 0.2em;position: relative;}#sk-container-id-1 div.sk-item {position: relative;z-index: 1;}#sk-container-id-1 div.sk-parallel {display: flex;align-items: stretch;justify-content: center;background-color: white;position: relative;}#sk-container-id-1 div.sk-item::before, #sk-container-id-1 div.sk-parallel-item::before {content: \"\";position: absolute;border-left: 1px solid gray;box-sizing: border-box;top: 0;bottom: 0;left: 50%;z-index: -1;}#sk-container-id-1 div.sk-parallel-item {display: flex;flex-direction: column;z-index: 1;position: relative;background-color: white;}#sk-container-id-1 div.sk-parallel-item:first-child::after {align-self: flex-end;width: 50%;}#sk-container-id-1 div.sk-parallel-item:last-child::after {align-self: flex-start;width: 50%;}#sk-container-id-1 div.sk-parallel-item:only-child::after {width: 0;}#sk-container-id-1 div.sk-dashed-wrapped {border: 1px dashed gray;margin: 0 0.4em 0.5em 0.4em;box-sizing: border-box;padding-bottom: 0.4em;background-color: white;}#sk-container-id-1 div.sk-label label {font-family: monospace;font-weight: bold;display: inline-block;line-height: 1.2em;}#sk-container-id-1 div.sk-label-container {text-align: center;}#sk-container-id-1 div.sk-container {/* jupyter's `normalize.less` sets `[hidden] { display: none; }` but bootstrap.min.css set `[hidden] { display: none !important; }` so we also need the `!important` here to be able to override the default hidden behavior on the sphinx rendered scikit-learn.org. See: https://github.com/scikit-learn/scikit-learn/issues/21755 */display: inline-block !important;position: relative;}#sk-container-id-1 div.sk-text-repr-fallback {display: none;}</style><div id=\"sk-container-id-1\" class=\"sk-top-container\"><div class=\"sk-text-repr-fallback\"><pre>GridSearchCV(cv=3,\n",
       "             estimator=RandomForestClassifier(class_weight=&#x27;balanced&#x27;,\n",
       "                                              criterion=&#x27;entropy&#x27;,\n",
       "                                              min_samples_split=5, n_jobs=-1,\n",
       "                                              random_state=42),\n",
       "             n_jobs=-1,\n",
       "             param_grid={&#x27;criterion&#x27;: [&#x27;gini&#x27;, &#x27;entropy&#x27;],\n",
       "                         &#x27;max_features&#x27;: [&#x27;sqrt&#x27;, &#x27;log2&#x27;],\n",
       "                         &#x27;min_samples_split&#x27;: [2, 5, 10],\n",
       "                         &#x27;n_estimators&#x27;: [20, 50, 100]},\n",
       "             scoring=&#x27;roc_auc&#x27;)</pre><b>In a Jupyter environment, please rerun this cell to show the HTML representation or trust the notebook. <br />On GitHub, the HTML representation is unable to render, please try loading this page with nbviewer.org.</b></div><div class=\"sk-container\" hidden><div class=\"sk-item sk-dashed-wrapped\"><div class=\"sk-label-container\"><div class=\"sk-label sk-toggleable\"><input class=\"sk-toggleable__control sk-hidden--visually\" id=\"sk-estimator-id-1\" type=\"checkbox\" ><label for=\"sk-estimator-id-1\" class=\"sk-toggleable__label sk-toggleable__label-arrow\">GridSearchCV</label><div class=\"sk-toggleable__content\"><pre>GridSearchCV(cv=3,\n",
       "             estimator=RandomForestClassifier(class_weight=&#x27;balanced&#x27;,\n",
       "                                              criterion=&#x27;entropy&#x27;,\n",
       "                                              min_samples_split=5, n_jobs=-1,\n",
       "                                              random_state=42),\n",
       "             n_jobs=-1,\n",
       "             param_grid={&#x27;criterion&#x27;: [&#x27;gini&#x27;, &#x27;entropy&#x27;],\n",
       "                         &#x27;max_features&#x27;: [&#x27;sqrt&#x27;, &#x27;log2&#x27;],\n",
       "                         &#x27;min_samples_split&#x27;: [2, 5, 10],\n",
       "                         &#x27;n_estimators&#x27;: [20, 50, 100]},\n",
       "             scoring=&#x27;roc_auc&#x27;)</pre></div></div></div><div class=\"sk-parallel\"><div class=\"sk-parallel-item\"><div class=\"sk-item\"><div class=\"sk-label-container\"><div class=\"sk-label sk-toggleable\"><input class=\"sk-toggleable__control sk-hidden--visually\" id=\"sk-estimator-id-2\" type=\"checkbox\" ><label for=\"sk-estimator-id-2\" class=\"sk-toggleable__label sk-toggleable__label-arrow\">estimator: RandomForestClassifier</label><div class=\"sk-toggleable__content\"><pre>RandomForestClassifier(class_weight=&#x27;balanced&#x27;, criterion=&#x27;entropy&#x27;,\n",
       "                       min_samples_split=5, n_jobs=-1, random_state=42)</pre></div></div></div><div class=\"sk-serial\"><div class=\"sk-item\"><div class=\"sk-estimator sk-toggleable\"><input class=\"sk-toggleable__control sk-hidden--visually\" id=\"sk-estimator-id-3\" type=\"checkbox\" ><label for=\"sk-estimator-id-3\" class=\"sk-toggleable__label sk-toggleable__label-arrow\">RandomForestClassifier</label><div class=\"sk-toggleable__content\"><pre>RandomForestClassifier(class_weight=&#x27;balanced&#x27;, criterion=&#x27;entropy&#x27;,\n",
       "                       min_samples_split=5, n_jobs=-1, random_state=42)</pre></div></div></div></div></div></div></div></div></div></div>"
      ],
      "text/plain": [
       "GridSearchCV(cv=3,\n",
       "             estimator=RandomForestClassifier(class_weight='balanced',\n",
       "                                              criterion='entropy',\n",
       "                                              min_samples_split=5, n_jobs=-1,\n",
       "                                              random_state=42),\n",
       "             n_jobs=-1,\n",
       "             param_grid={'criterion': ['gini', 'entropy'],\n",
       "                         'max_features': ['sqrt', 'log2'],\n",
       "                         'min_samples_split': [2, 5, 10],\n",
       "                         'n_estimators': [20, 50, 100]},\n",
       "             scoring='roc_auc')"
      ]
     },
     "execution_count": 13,
     "metadata": {},
     "output_type": "execute_result"
    }
   ],
   "source": [
    "grid_p = {\"n_estimators\": [20, 50, 100],\n",
    "          \"criterion\": [\"gini\", \"entropy\"],\n",
    "          \"max_features\": ['sqrt', 'log2'],\n",
    "          \"min_samples_split\": [2, 5, 10]}\n",
    "\n",
    "grid_search = GridSearchCV(rf, grid_p, n_jobs=-1, cv=3, scoring='roc_auc')\n",
    "grid_search.fit(word_features, data_sampled['sentiment'])\n"
   ]
  },
  {
   "cell_type": "code",
   "execution_count": 14,
   "id": "5dd3e771",
   "metadata": {
    "execution": {
     "iopub.execute_input": "2023-05-04T17:29:48.897270Z",
     "iopub.status.busy": "2023-05-04T17:29:48.896385Z",
     "iopub.status.idle": "2023-05-04T17:29:48.905124Z",
     "shell.execute_reply": "2023-05-04T17:29:48.903975Z"
    },
    "papermill": {
     "duration": 0.022314,
     "end_time": "2023-05-04T17:29:48.907242",
     "exception": false,
     "start_time": "2023-05-04T17:29:48.884928",
     "status": "completed"
    },
    "tags": []
   },
   "outputs": [
    {
     "data": {
      "text/plain": [
       "0.889786166143591"
      ]
     },
     "execution_count": 14,
     "metadata": {},
     "output_type": "execute_result"
    }
   ],
   "source": [
    "grid_search.best_score_"
   ]
  },
  {
   "cell_type": "code",
   "execution_count": 15,
   "id": "0dd119ad",
   "metadata": {
    "execution": {
     "iopub.execute_input": "2023-05-04T17:29:48.929984Z",
     "iopub.status.busy": "2023-05-04T17:29:48.929173Z",
     "iopub.status.idle": "2023-05-04T17:29:48.934021Z",
     "shell.execute_reply": "2023-05-04T17:29:48.932915Z"
    },
    "papermill": {
     "duration": 0.019369,
     "end_time": "2023-05-04T17:29:48.936357",
     "exception": false,
     "start_time": "2023-05-04T17:29:48.916988",
     "status": "completed"
    },
    "tags": []
   },
   "outputs": [],
   "source": [
    "best_rf = grid_search.best_estimator_\n"
   ]
  },
  {
   "cell_type": "code",
   "execution_count": 16,
   "id": "2ea7e8fa",
   "metadata": {
    "execution": {
     "iopub.execute_input": "2023-05-04T17:29:48.958272Z",
     "iopub.status.busy": "2023-05-04T17:29:48.957876Z",
     "iopub.status.idle": "2023-05-04T17:29:48.966347Z",
     "shell.execute_reply": "2023-05-04T17:29:48.965344Z"
    },
    "papermill": {
     "duration": 0.02254,
     "end_time": "2023-05-04T17:29:48.968766",
     "exception": false,
     "start_time": "2023-05-04T17:29:48.946226",
     "status": "completed"
    },
    "tags": []
   },
   "outputs": [
    {
     "data": {
      "text/html": [
       "<style>#sk-container-id-2 {color: black;background-color: white;}#sk-container-id-2 pre{padding: 0;}#sk-container-id-2 div.sk-toggleable {background-color: white;}#sk-container-id-2 label.sk-toggleable__label {cursor: pointer;display: block;width: 100%;margin-bottom: 0;padding: 0.3em;box-sizing: border-box;text-align: center;}#sk-container-id-2 label.sk-toggleable__label-arrow:before {content: \"▸\";float: left;margin-right: 0.25em;color: #696969;}#sk-container-id-2 label.sk-toggleable__label-arrow:hover:before {color: black;}#sk-container-id-2 div.sk-estimator:hover label.sk-toggleable__label-arrow:before {color: black;}#sk-container-id-2 div.sk-toggleable__content {max-height: 0;max-width: 0;overflow: hidden;text-align: left;background-color: #f0f8ff;}#sk-container-id-2 div.sk-toggleable__content pre {margin: 0.2em;color: black;border-radius: 0.25em;background-color: #f0f8ff;}#sk-container-id-2 input.sk-toggleable__control:checked~div.sk-toggleable__content {max-height: 200px;max-width: 100%;overflow: auto;}#sk-container-id-2 input.sk-toggleable__control:checked~label.sk-toggleable__label-arrow:before {content: \"▾\";}#sk-container-id-2 div.sk-estimator input.sk-toggleable__control:checked~label.sk-toggleable__label {background-color: #d4ebff;}#sk-container-id-2 div.sk-label input.sk-toggleable__control:checked~label.sk-toggleable__label {background-color: #d4ebff;}#sk-container-id-2 input.sk-hidden--visually {border: 0;clip: rect(1px 1px 1px 1px);clip: rect(1px, 1px, 1px, 1px);height: 1px;margin: -1px;overflow: hidden;padding: 0;position: absolute;width: 1px;}#sk-container-id-2 div.sk-estimator {font-family: monospace;background-color: #f0f8ff;border: 1px dotted black;border-radius: 0.25em;box-sizing: border-box;margin-bottom: 0.5em;}#sk-container-id-2 div.sk-estimator:hover {background-color: #d4ebff;}#sk-container-id-2 div.sk-parallel-item::after {content: \"\";width: 100%;border-bottom: 1px solid gray;flex-grow: 1;}#sk-container-id-2 div.sk-label:hover label.sk-toggleable__label {background-color: #d4ebff;}#sk-container-id-2 div.sk-serial::before {content: \"\";position: absolute;border-left: 1px solid gray;box-sizing: border-box;top: 0;bottom: 0;left: 50%;z-index: 0;}#sk-container-id-2 div.sk-serial {display: flex;flex-direction: column;align-items: center;background-color: white;padding-right: 0.2em;padding-left: 0.2em;position: relative;}#sk-container-id-2 div.sk-item {position: relative;z-index: 1;}#sk-container-id-2 div.sk-parallel {display: flex;align-items: stretch;justify-content: center;background-color: white;position: relative;}#sk-container-id-2 div.sk-item::before, #sk-container-id-2 div.sk-parallel-item::before {content: \"\";position: absolute;border-left: 1px solid gray;box-sizing: border-box;top: 0;bottom: 0;left: 50%;z-index: -1;}#sk-container-id-2 div.sk-parallel-item {display: flex;flex-direction: column;z-index: 1;position: relative;background-color: white;}#sk-container-id-2 div.sk-parallel-item:first-child::after {align-self: flex-end;width: 50%;}#sk-container-id-2 div.sk-parallel-item:last-child::after {align-self: flex-start;width: 50%;}#sk-container-id-2 div.sk-parallel-item:only-child::after {width: 0;}#sk-container-id-2 div.sk-dashed-wrapped {border: 1px dashed gray;margin: 0 0.4em 0.5em 0.4em;box-sizing: border-box;padding-bottom: 0.4em;background-color: white;}#sk-container-id-2 div.sk-label label {font-family: monospace;font-weight: bold;display: inline-block;line-height: 1.2em;}#sk-container-id-2 div.sk-label-container {text-align: center;}#sk-container-id-2 div.sk-container {/* jupyter's `normalize.less` sets `[hidden] { display: none; }` but bootstrap.min.css set `[hidden] { display: none !important; }` so we also need the `!important` here to be able to override the default hidden behavior on the sphinx rendered scikit-learn.org. See: https://github.com/scikit-learn/scikit-learn/issues/21755 */display: inline-block !important;position: relative;}#sk-container-id-2 div.sk-text-repr-fallback {display: none;}</style><div id=\"sk-container-id-2\" class=\"sk-top-container\"><div class=\"sk-text-repr-fallback\"><pre>RandomForestClassifier(class_weight=&#x27;balanced&#x27;, criterion=&#x27;entropy&#x27;,\n",
       "                       max_features=&#x27;log2&#x27;, min_samples_split=10, n_jobs=-1,\n",
       "                       random_state=42)</pre><b>In a Jupyter environment, please rerun this cell to show the HTML representation or trust the notebook. <br />On GitHub, the HTML representation is unable to render, please try loading this page with nbviewer.org.</b></div><div class=\"sk-container\" hidden><div class=\"sk-item\"><div class=\"sk-estimator sk-toggleable\"><input class=\"sk-toggleable__control sk-hidden--visually\" id=\"sk-estimator-id-4\" type=\"checkbox\" checked><label for=\"sk-estimator-id-4\" class=\"sk-toggleable__label sk-toggleable__label-arrow\">RandomForestClassifier</label><div class=\"sk-toggleable__content\"><pre>RandomForestClassifier(class_weight=&#x27;balanced&#x27;, criterion=&#x27;entropy&#x27;,\n",
       "                       max_features=&#x27;log2&#x27;, min_samples_split=10, n_jobs=-1,\n",
       "                       random_state=42)</pre></div></div></div></div></div>"
      ],
      "text/plain": [
       "RandomForestClassifier(class_weight='balanced', criterion='entropy',\n",
       "                       max_features='log2', min_samples_split=10, n_jobs=-1,\n",
       "                       random_state=42)"
      ]
     },
     "execution_count": 16,
     "metadata": {},
     "output_type": "execute_result"
    }
   ],
   "source": [
    "best_rf"
   ]
  },
  {
   "cell_type": "code",
   "execution_count": 17,
   "id": "85d97909",
   "metadata": {
    "execution": {
     "iopub.execute_input": "2023-05-04T17:29:48.990673Z",
     "iopub.status.busy": "2023-05-04T17:29:48.990227Z",
     "iopub.status.idle": "2023-05-04T17:30:01.930200Z",
     "shell.execute_reply": "2023-05-04T17:30:01.928737Z"
    },
    "papermill": {
     "duration": 12.954298,
     "end_time": "2023-05-04T17:30:01.933142",
     "exception": false,
     "start_time": "2023-05-04T17:29:48.978844",
     "status": "completed"
    },
    "tags": []
   },
   "outputs": [
    {
     "name": "stdout",
     "output_type": "stream",
     "text": [
      "(63992,)\n",
      "(15998,)\n",
      "Accuracy:\n",
      "=========\n",
      "TRAIN: 0.8173365420677585\n",
      "TEST: 0.8118514814351794\n",
      "\n",
      "Balanced Accuracy:\n",
      "==================\n",
      "TRAIN: 0.8017378803229157\n",
      "TEST: 0.795392314208523\n"
     ]
    },
    {
     "data": {
      "image/png": "[encoded data removed]",
      "text/plain": [
       "<Figure size 640x480 with 1 Axes>"
      ]
     },
     "metadata": {},
     "output_type": "display_data"
    }
   ],
   "source": [
    "rf_extra = ExtraTreesClassifier(max_depth=5, criterion= 'entropy', min_samples_leaf=3, min_samples_split=18, \n",
    "                          random_state=42, n_estimators = 100, class_weight='balanced', n_jobs = -1)\n",
    "\n",
    "model(data_sampled,rf_extra)"
   ]
  },
  {
   "cell_type": "markdown",
   "id": "cddd2ef5",
   "metadata": {
    "papermill": {
     "duration": 0.010638,
     "end_time": "2023-05-04T17:30:01.964802",
     "exception": false,
     "start_time": "2023-05-04T17:30:01.954164",
     "status": "completed"
    },
    "tags": []
   },
   "source": [
    "## XGBOOST Classifier "
   ]
  },
  {
   "cell_type": "code",
   "execution_count": 18,
   "id": "4dbc549b",
   "metadata": {
    "execution": {
     "iopub.execute_input": "2023-05-04T17:30:01.987785Z",
     "iopub.status.busy": "2023-05-04T17:30:01.987156Z",
     "iopub.status.idle": "2023-05-04T17:33:09.856147Z",
     "shell.execute_reply": "2023-05-04T17:33:09.854653Z"
    },
    "papermill": {
     "duration": 187.903119,
     "end_time": "2023-05-04T17:33:09.878505",
     "exception": false,
     "start_time": "2023-05-04T17:30:01.975386",
     "status": "completed"
    },
    "tags": []
   },
   "outputs": [
    {
     "name": "stdout",
     "output_type": "stream",
     "text": [
      "(63992,)\n",
      "(15998,)\n",
      "[17:30:12] WARNING: ../src/learner.cc:767: \n",
      "Parameters: { \"maximize\", \"nrounds\" } are not used.\n",
      "\n",
      "Accuracy:\n",
      "=========\n",
      "TRAIN: 0.9599637454681835\n",
      "TEST: 0.8642955369421178\n",
      "\n",
      "Balanced Accuracy:\n",
      "==================\n",
      "TRAIN: 0.9492680168547759\n",
      "TEST: 0.8393865421475044\n"
     ]
    },
    {
     "data": {
      "image/png": "[encoded data removed]",
      "text/plain": [
       "<Figure size 640x480 with 1 Axes>"
      ]
     },
     "metadata": {},
     "output_type": "display_data"
    }
   ],
   "source": [
    "xgb = XGBClassifier(objective = 'multi:softmax', booster = 'gbtree', nrounds = 'min.error.idx',\n",
    "                      num_class = 3, maximize = False, eval_metric = 'merror',\n",
    "                        eta = .1,max_depth = 30, colsample_bytree = .4, learning_rate = 0.1,\n",
    "                        max_delta_step=1)\n",
    "model(data_sampled, xgb)"
   ]
  },
  {
   "cell_type": "markdown",
   "id": "426c3732",
   "metadata": {
    "papermill": {
     "duration": 0.010239,
     "end_time": "2023-05-04T17:33:09.902640",
     "exception": false,
     "start_time": "2023-05-04T17:33:09.892401",
     "status": "completed"
    },
    "tags": []
   },
   "source": [
    "## LGBM Classifier"
   ]
  },
  {
   "cell_type": "code",
   "execution_count": 19,
   "id": "6cfdbbcb",
   "metadata": {
    "execution": {
     "iopub.execute_input": "2023-05-04T17:33:09.925694Z",
     "iopub.status.busy": "2023-05-04T17:33:09.925330Z",
     "iopub.status.idle": "2023-05-04T17:33:49.210412Z",
     "shell.execute_reply": "2023-05-04T17:33:49.205522Z"
    },
    "papermill": {
     "duration": 39.326819,
     "end_time": "2023-05-04T17:33:49.240037",
     "exception": false,
     "start_time": "2023-05-04T17:33:09.913218",
     "status": "completed"
    },
    "tags": []
   },
   "outputs": [
    {
     "name": "stdout",
     "output_type": "stream",
     "text": [
      "(63992,)\n",
      "(15998,)\n",
      "[LightGBM] [Warning] Unknown parameter: maximize\n",
      "[LightGBM] [Warning] Unknown parameter: booster\n",
      "[LightGBM] [Warning] Unknown parameter: nrounds\n",
      "[LightGBM] [Warning] learning_rate is set=0.1, eta=0.1 will be ignored. Current value: learning_rate=0.1\n",
      "Accuracy:\n",
      "=========\n",
      "TRAIN: 0.8552631578947368\n",
      "TEST: 0.838104763095387\n",
      "\n",
      "Balanced Accuracy:\n",
      "==================\n",
      "TRAIN: 0.8239060226106875\n",
      "TEST: 0.8039002073861712\n"
     ]
    },
    {
     "data": {
      "image/png": "[encoded data removed]",
      "text/plain": [
       "<Figure size 640x480 with 1 Axes>"
      ]
     },
     "metadata": {},
     "output_type": "display_data"
    }
   ],
   "source": [
    "lgbm = LGBMClassifier(booster = 'gbtree', nrounds = 'min.error.idx', maximize = False,eta = .1,max_depth = 10, \n",
    "                      colsample_bytree = .4,learning_rate = 0.1,max_delta_step=1)\n",
    "model(data_sampled, lgbm)"
   ]
  },
  {
   "cell_type": "code",
   "execution_count": 20,
   "id": "f783b66c",
   "metadata": {
    "execution": {
     "iopub.execute_input": "2023-05-04T17:33:49.282011Z",
     "iopub.status.busy": "2023-05-04T17:33:49.281613Z",
     "iopub.status.idle": "2023-05-04T17:33:49.305736Z",
     "shell.execute_reply": "2023-05-04T17:33:49.304568Z"
    },
    "papermill": {
     "duration": 0.039183,
     "end_time": "2023-05-04T17:33:49.308157",
     "exception": false,
     "start_time": "2023-05-04T17:33:49.268974",
     "status": "completed"
    },
    "tags": []
   },
   "outputs": [
    {
     "name": "stderr",
     "output_type": "stream",
     "text": [
      "/tmp/ipykernel_20/2539052807.py:2: FutureWarning: The frame.append method is deprecated and will be removed from pandas in a future version. Use pandas.concat instead.\n",
      "  data_results = data_results.append({       # writing results to df\n",
      "/tmp/ipykernel_20/2539052807.py:6: FutureWarning: The frame.append method is deprecated and will be removed from pandas in a future version. Use pandas.concat instead.\n",
      "  data_results = data_results.append({       # writing results to df\n",
      "/tmp/ipykernel_20/2539052807.py:10: FutureWarning: The frame.append method is deprecated and will be removed from pandas in a future version. Use pandas.concat instead.\n",
      "  data_results = data_results.append({       # writing results to df\n",
      "/tmp/ipykernel_20/2539052807.py:14: FutureWarning: The frame.append method is deprecated and will be removed from pandas in a future version. Use pandas.concat instead.\n",
      "  data_results = data_results.append({       # writing results to df\n",
      "/tmp/ipykernel_20/2539052807.py:18: FutureWarning: The frame.append method is deprecated and will be removed from pandas in a future version. Use pandas.concat instead.\n",
      "  data_results = data_results.append({       # writing results to df\n",
      "/tmp/ipykernel_20/2539052807.py:22: FutureWarning: The frame.append method is deprecated and will be removed from pandas in a future version. Use pandas.concat instead.\n",
      "  data_results = data_results.append({       # writing results to df\n"
     ]
    }
   ],
   "source": [
    "data_results = pd.DataFrame(columns=[\"Model\", 'train_balanced', 'test_balanced'])\n",
    "data_results = data_results.append({       # writing results to df\n",
    "     \"Model\": 'Logreg' ,\n",
    "               'train_balanced' : 0.90,\n",
    "                    'test_balanced' : 0.89}, ignore_index=True)\n",
    "data_results = data_results.append({       # writing results to df\n",
    "     \"Model\": 'Decision Tree' ,\n",
    "               'train_balanced' : 0.63,\n",
    "                    'test_balanced' : 0.63}, ignore_index=True)\n",
    "data_results = data_results.append({       # writing results to df\n",
    "     \"Model\": 'Extra-Tree' ,\n",
    "               'train_balanced' : 0.81,\n",
    "                    'test_balanced' : 0.80}, ignore_index=True)\n",
    "data_results = data_results.append({       # writing results to df\n",
    "     \"Model\": 'Random Forest' ,\n",
    "               'train_balanced' : 0.98,\n",
    "                    'test_balanced' : 0.85}, ignore_index=True)\n",
    "data_results = data_results.append({       # writing results to df\n",
    "     \"Model\": 'XGBM' ,\n",
    "               'train_balanced' : 0.94,\n",
    "                    'test_balanced' : 0.83}, ignore_index=True)\n",
    "data_results = data_results.append({       # writing results to df\n",
    "     \"Model\": 'LGBM' ,\n",
    "               'train_balanced' : 0.82,\n",
    "                    'test_balanced' : 0.81}, ignore_index=True)"
   ]
  },
  {
   "cell_type": "code",
   "execution_count": 21,
   "id": "eb36a2ad",
   "metadata": {
    "execution": {
     "iopub.execute_input": "2023-05-04T17:33:49.332719Z",
     "iopub.status.busy": "2023-05-04T17:33:49.332272Z",
     "iopub.status.idle": "2023-05-04T17:33:49.345439Z",
     "shell.execute_reply": "2023-05-04T17:33:49.344238Z"
    },
    "papermill": {
     "duration": 0.028176,
     "end_time": "2023-05-04T17:33:49.347645",
     "exception": false,
     "start_time": "2023-05-04T17:33:49.319469",
     "status": "completed"
    },
    "tags": []
   },
   "outputs": [
    {
     "data": {
      "text/html": [
       "<div>\n",
       "<style scoped>\n",
       "    .dataframe tbody tr th:only-of-type {\n",
       "        vertical-align: middle;\n",
       "    }\n",
       "\n",
       "    .dataframe tbody tr th {\n",
       "        vertical-align: top;\n",
       "    }\n",
       "\n",
       "    .dataframe thead th {\n",
       "        text-align: right;\n",
       "    }\n",
       "</style>\n",
       "<table border=\"1\" class=\"dataframe\">\n",
       "  <thead>\n",
       "    <tr style=\"text-align: right;\">\n",
       "      <th></th>\n",
       "      <th>Model</th>\n",
       "      <th>train_balanced</th>\n",
       "      <th>test_balanced</th>\n",
       "    </tr>\n",
       "  </thead>\n",
       "  <tbody>\n",
       "    <tr>\n",
       "      <th>0</th>\n",
       "      <td>Logreg</td>\n",
       "      <td>0.90</td>\n",
       "      <td>0.89</td>\n",
       "    </tr>\n",
       "    <tr>\n",
       "      <th>1</th>\n",
       "      <td>Decision Tree</td>\n",
       "      <td>0.63</td>\n",
       "      <td>0.63</td>\n",
       "    </tr>\n",
       "    <tr>\n",
       "      <th>2</th>\n",
       "      <td>Extra-Tree</td>\n",
       "      <td>0.81</td>\n",
       "      <td>0.80</td>\n",
       "    </tr>\n",
       "    <tr>\n",
       "      <th>3</th>\n",
       "      <td>Random Forest</td>\n",
       "      <td>0.98</td>\n",
       "      <td>0.85</td>\n",
       "    </tr>\n",
       "    <tr>\n",
       "      <th>4</th>\n",
       "      <td>XGBM</td>\n",
       "      <td>0.94</td>\n",
       "      <td>0.83</td>\n",
       "    </tr>\n",
       "    <tr>\n",
       "      <th>5</th>\n",
       "      <td>LGBM</td>\n",
       "      <td>0.82</td>\n",
       "      <td>0.81</td>\n",
       "    </tr>\n",
       "  </tbody>\n",
       "</table>\n",
       "</div>"
      ],
      "text/plain": [
       "           Model  train_balanced  test_balanced\n",
       "0         Logreg            0.90           0.89\n",
       "1  Decision Tree            0.63           0.63\n",
       "2     Extra-Tree            0.81           0.80\n",
       "3  Random Forest            0.98           0.85\n",
       "4           XGBM            0.94           0.83\n",
       "5           LGBM            0.82           0.81"
      ]
     },
     "execution_count": 21,
     "metadata": {},
     "output_type": "execute_result"
    }
   ],
   "source": [
    "data_results"
   ]
  },
  {
   "cell_type": "code",
   "execution_count": 22,
   "id": "dbbe2a4f",
   "metadata": {
    "execution": {
     "iopub.execute_input": "2023-05-04T17:33:49.372379Z",
     "iopub.status.busy": "2023-05-04T17:33:49.371922Z",
     "iopub.status.idle": "2023-05-04T17:33:49.626795Z",
     "shell.execute_reply": "2023-05-04T17:33:49.625720Z"
    },
    "papermill": {
     "duration": 0.2698,
     "end_time": "2023-05-04T17:33:49.628976",
     "exception": false,
     "start_time": "2023-05-04T17:33:49.359176",
     "status": "completed"
    },
    "tags": []
   },
   "outputs": [
    {
     "data": {
      "image/png": "[encoded data removed]",
      "text/plain": [
       "<Figure size 1000x600 with 1 Axes>"
      ]
     },
     "metadata": {},
     "output_type": "display_data"
    }
   ],
   "source": [
    "plt.figure(figsize=(10,6))\n",
    "ax = sns.barplot(x='Model', y= 'test_balanced',data=data_results)"
   ]
  },
  {
   "cell_type": "code",
   "execution_count": null,
   "id": "589ea8fd",
   "metadata": {
    "papermill": {
     "duration": 0.01138,
     "end_time": "2023-05-04T17:33:49.651987",
     "exception": false,
     "start_time": "2023-05-04T17:33:49.640607",
     "status": "completed"
    },
    "tags": []
   },
   "outputs": [],
   "source": []
  }
 ],
 "metadata": {
  "kernelspec": {
   "display_name": "Python 3",
   "language": "python",
   "name": "python3"
  },
  "language_info": {
   "codemirror_mode": {
    "name": "ipython",
    "version": 3
   },
   "file_extension": ".py",
   "mimetype": "text/x-python",
   "name": "python",
   "nbconvert_exporter": "python",
   "pygments_lexer": "ipython3",
   "version": "3.10.10"
  },
  "papermill": {
   "default_parameters": {},
   "duration": 4205.18306,
   "end_time": "2023-05-04T17:33:52.397844",
   "environment_variables": {},
   "exception": null,
   "input_path": "__notebook__.ipynb",
   "output_path": "__notebook__.ipynb",
   "parameters": {},
   "start_time": "2023-05-04T16:23:47.214784",
   "version": "2.4.0"
  }
 },
 "nbformat": 4,
 "nbformat_minor": 5
}
