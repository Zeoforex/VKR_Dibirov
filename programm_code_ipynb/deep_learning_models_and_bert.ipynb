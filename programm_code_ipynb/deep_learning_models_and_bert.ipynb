{
  "metadata": {
    "kernelspec": {
      "language": "python",
      "display_name": "Python 3",
      "name": "python3"
    },
    "language_info": {
      "name": "python",
      "version": "3.10.10",
      "mimetype": "text/x-python",
      "codemirror_mode": {
        "name": "ipython",
        "version": 3
      },
      "pygments_lexer": "ipython3",
      "nbconvert_exporter": "python",
      "file_extension": ".py"
    },
    "colab": {
      "provenance": []
    }
  },
  "nbformat_minor": 0,
  "nbformat": 4,
  "cells": [
    {
      "cell_type": "code",
      "source": [
        "# dataframe imports\n",
        "import pandas as pd\n",
        "import numpy as np\n",
        "import matplotlib.pyplot as plt\n",
        "\n",
        "from sklearn.metrics import f1_score, roc_auc_score, accuracy_score\n",
        "from sklearn.model_selection import train_test_split\n",
        "import re\n",
        "\n",
        "import matplotlib.pyplot as plt\n",
        "import seaborn as sns; sns.set()\n",
        "%matplotlib inline\n",
        "\n",
        "#tensorflow imports for keras\n",
        "import tensorflow\n",
        "from tensorflow.keras import models, layers, optimizers\n",
        "from tensorflow.keras.preprocessing.text import Tokenizer, text_to_word_sequence\n",
        "from tensorflow.keras.preprocessing.sequence import pad_sequences"
      ],
      "metadata": {
        "execution": {
          "iopub.status.busy": "2023-05-06T09:26:00.919961Z",
          "iopub.execute_input": "2023-05-06T09:26:00.920341Z",
          "iopub.status.idle": "2023-05-06T09:26:08.385139Z",
          "shell.execute_reply.started": "2023-05-06T09:26:00.920310Z",
          "shell.execute_reply": "2023-05-06T09:26:08.384161Z"
        },
        "trusted": true,
        "id": "7_xRYVkafZcK",
        "outputId": "1ed9b9f4-8fcf-463e-b8c7-b158ab9944a5"
      },
      "execution_count": null,
      "outputs": [
        {
          "name": "stderr",
          "text": "/opt/conda/lib/python3.10/site-packages/scipy/__init__.py:146: UserWarning: A NumPy version >=1.16.5 and <1.23.0 is required for this version of SciPy (detected version 1.23.5\n  warnings.warn(f\"A NumPy version >={np_minversion} and <{np_maxversion}\"\n",
          "output_type": "stream"
        }
      ]
    },
    {
      "cell_type": "code",
      "source": [
        "data = pd.read_csv(\"/kaggle/input/data-work/data_work\")\n",
        "data['reviewText']=data['reviewText'].str.lower()\n",
        "import string\n",
        "string.punctuation \n",
        "def remove_punctuation(text):\n",
        "    '''this function splits the words to letters, remove punctuation and \n",
        "        again getting together letters as words '''\n",
        "    text_no_punc = \"\".join([c for c in text if c not in string.punctuation])\n",
        "    return text_no_punc\n",
        "data['review_clean'] = data['reviewText'].apply(lambda x: remove_punctuation(x))\n",
        "data.head()"
      ],
      "metadata": {
        "execution": {
          "iopub.status.busy": "2023-05-06T12:13:54.660533Z",
          "iopub.execute_input": "2023-05-06T12:13:54.661459Z",
          "iopub.status.idle": "2023-05-06T12:14:16.614515Z",
          "shell.execute_reply.started": "2023-05-06T12:13:54.661422Z",
          "shell.execute_reply": "2023-05-06T12:14:16.609576Z"
        },
        "trusted": true,
        "id": "5DVu6AFnfZcO",
        "outputId": "330e8779-93cf-49c1-be64-27b5e3069751"
      },
      "execution_count": null,
      "outputs": [
        {
          "execution_count": 19,
          "output_type": "execute_result",
          "data": {
            "text/plain": "   overall  verified   reviewTime      reviewerID        asin  \\\n0      5.0      True   11 9, 2012  A2M1CU2IRZG0K9  0005089549   \n1      5.0      True  12 30, 2011   AFTUJYISOFHY6  0005089549   \n2      5.0      True  04 21, 2005  A3JVF9Y53BEOGC  000503860X   \n3      5.0      True   04 6, 2005  A12VPEOEZS1KTC  000503860X   \n4      5.0      True   12 3, 2010   ATLZNVLYKP9AZ  000503860X   \n\n                      style            reviewerName  \\\n0  {'Format:': ' VHS Tape'}                   Terri   \n1  {'Format:': ' VHS Tape'}  Melissa D. Abercrombie   \n2       {'Format:': ' DVD'}        Anthony Thompson   \n3       {'Format:': ' DVD'}                JadeRain   \n4       {'Format:': ' DVD'}               T. Fisher   \n\n                                          reviewText  \\\n0  so sorry i didn't purchase this years ago when...   \n1  believe me when i tell you that you will recei...   \n2  i have seen x live many times, both in the ear...   \n3  i was so excited for this!  finally, a live co...   \n4  x is one of the best punk bands ever. i don't ...   \n\n                               summary  unixReviewTime  \\\n0                             Amazing!      1352419200   \n1  Great Gospel VHS of the Cathedrals!      1325203200   \n2     A great document of a great band      1114041600   \n3                      YES!!  X LIVE!!      1112745600   \n4                  X have still got it      1291334400   \n\n                                        review_clean  \n0  so sorry i didnt purchase this years ago when ...  \n1  believe me when i tell you that you will recei...  \n2  i have seen x live many times both in the earl...  \n3  i was so excited for this  finally a live conc...  \n4  x is one of the best punk bands ever i dont ev...  ",
            "text/html": "<div>\n<style scoped>\n    .dataframe tbody tr th:only-of-type {\n        vertical-align: middle;\n    }\n\n    .dataframe tbody tr th {\n        vertical-align: top;\n    }\n\n    .dataframe thead th {\n        text-align: right;\n    }\n</style>\n<table border=\"1\" class=\"dataframe\">\n  <thead>\n    <tr style=\"text-align: right;\">\n      <th></th>\n      <th>overall</th>\n      <th>verified</th>\n      <th>reviewTime</th>\n      <th>reviewerID</th>\n      <th>asin</th>\n      <th>style</th>\n      <th>reviewerName</th>\n      <th>reviewText</th>\n      <th>summary</th>\n      <th>unixReviewTime</th>\n      <th>review_clean</th>\n    </tr>\n  </thead>\n  <tbody>\n    <tr>\n      <th>0</th>\n      <td>5.0</td>\n      <td>True</td>\n      <td>11 9, 2012</td>\n      <td>A2M1CU2IRZG0K9</td>\n      <td>0005089549</td>\n      <td>{'Format:': ' VHS Tape'}</td>\n      <td>Terri</td>\n      <td>so sorry i didn't purchase this years ago when...</td>\n      <td>Amazing!</td>\n      <td>1352419200</td>\n      <td>so sorry i didnt purchase this years ago when ...</td>\n    </tr>\n    <tr>\n      <th>1</th>\n      <td>5.0</td>\n      <td>True</td>\n      <td>12 30, 2011</td>\n      <td>AFTUJYISOFHY6</td>\n      <td>0005089549</td>\n      <td>{'Format:': ' VHS Tape'}</td>\n      <td>Melissa D. Abercrombie</td>\n      <td>believe me when i tell you that you will recei...</td>\n      <td>Great Gospel VHS of the Cathedrals!</td>\n      <td>1325203200</td>\n      <td>believe me when i tell you that you will recei...</td>\n    </tr>\n    <tr>\n      <th>2</th>\n      <td>5.0</td>\n      <td>True</td>\n      <td>04 21, 2005</td>\n      <td>A3JVF9Y53BEOGC</td>\n      <td>000503860X</td>\n      <td>{'Format:': ' DVD'}</td>\n      <td>Anthony Thompson</td>\n      <td>i have seen x live many times, both in the ear...</td>\n      <td>A great document of a great band</td>\n      <td>1114041600</td>\n      <td>i have seen x live many times both in the earl...</td>\n    </tr>\n    <tr>\n      <th>3</th>\n      <td>5.0</td>\n      <td>True</td>\n      <td>04 6, 2005</td>\n      <td>A12VPEOEZS1KTC</td>\n      <td>000503860X</td>\n      <td>{'Format:': ' DVD'}</td>\n      <td>JadeRain</td>\n      <td>i was so excited for this!  finally, a live co...</td>\n      <td>YES!!  X LIVE!!</td>\n      <td>1112745600</td>\n      <td>i was so excited for this  finally a live conc...</td>\n    </tr>\n    <tr>\n      <th>4</th>\n      <td>5.0</td>\n      <td>True</td>\n      <td>12 3, 2010</td>\n      <td>ATLZNVLYKP9AZ</td>\n      <td>000503860X</td>\n      <td>{'Format:': ' DVD'}</td>\n      <td>T. Fisher</td>\n      <td>x is one of the best punk bands ever. i don't ...</td>\n      <td>X have still got it</td>\n      <td>1291334400</td>\n      <td>x is one of the best punk bands ever i dont ev...</td>\n    </tr>\n  </tbody>\n</table>\n</div>"
          },
          "metadata": {}
        }
      ]
    },
    {
      "cell_type": "code",
      "source": [
        "def calc_sentiment_with_neutral(overall):\n",
        "    '''encoding the sentiments of the ratings.'''\n",
        "    if overall == 5 or overall == 4:\n",
        "        return 2\n",
        "    elif overall == 1 or overall==2 : \n",
        "        return 0\n",
        "    else:\n",
        "        return 1\n",
        "data['sentiment'] = data['overall'].apply(calc_sentiment_with_neutral)\n",
        "data"
      ],
      "metadata": {
        "execution": {
          "iopub.status.busy": "2023-05-06T12:14:16.616636Z",
          "iopub.execute_input": "2023-05-06T12:14:16.617088Z",
          "iopub.status.idle": "2023-05-06T12:14:16.882048Z",
          "shell.execute_reply.started": "2023-05-06T12:14:16.617044Z",
          "shell.execute_reply": "2023-05-06T12:14:16.881137Z"
        },
        "trusted": true,
        "id": "lZuyeOFufZcP",
        "outputId": "3ee4a1a9-e771-4135-8e6e-b728ad2beac0"
      },
      "execution_count": null,
      "outputs": [
        {
          "execution_count": 20,
          "output_type": "execute_result",
          "data": {
            "text/plain": "        overall  verified   reviewTime      reviewerID        asin  \\\n0           5.0      True   11 9, 2012  A2M1CU2IRZG0K9  0005089549   \n1           5.0      True  12 30, 2011   AFTUJYISOFHY6  0005089549   \n2           5.0      True  04 21, 2005  A3JVF9Y53BEOGC  000503860X   \n3           5.0      True   04 6, 2005  A12VPEOEZS1KTC  000503860X   \n4           5.0      True   12 3, 2010   ATLZNVLYKP9AZ  000503860X   \n...         ...       ...          ...             ...         ...   \n399995      5.0      True  08 31, 2017  A2RCR40SNWKRH7  B00065W99Y   \n399996      3.0      True  03 21, 2016  A2C8BZOZKGW57H  B000VK4Q4K   \n399997      5.0      True   11 4, 2017  A3QX3TEN2FS31K  B000I97FHY   \n399998      5.0      True  05 31, 2015  A1QZU5ZZJC5QYI  B0035YRCR2   \n399999      5.0      True   12 7, 2017  A29S2AT06P80QR  B00F429Z7S   \n\n                                            style            reviewerName  \\\n0                        {'Format:': ' VHS Tape'}                   Terri   \n1                        {'Format:': ' VHS Tape'}  Melissa D. Abercrombie   \n2                             {'Format:': ' DVD'}        Anthony Thompson   \n3                             {'Format:': ' DVD'}                JadeRain   \n4                             {'Format:': ' DVD'}               T. Fisher   \n...                                           ...                     ...   \n399995                {'Size Name:': ' 1 Gallon'}            The Dirt Guy   \n399996                    {'Style:': ' 85-Lumen'}                 Joel C.   \n399997                       {'Color:': ' white'}            LEROY A DUCK   \n399998        {'Style:': ' Paddle On/Off Switch'}                 Rick C.   \n399999  {'Size:': ' 3/32\"', 'Style:': ' 10# Box'}         Amazon Customer   \n\n                                               reviewText  \\\n0       so sorry i didn't purchase this years ago when...   \n1       believe me when i tell you that you will recei...   \n2       i have seen x live many times, both in the ear...   \n3       i was so excited for this!  finally, a live co...   \n4       x is one of the best punk bands ever. i don't ...   \n...                                                   ...   \n399995  i used this cleaner as part of the first step ...   \n399996  the flashlight is fairly cheaply made and i ha...   \n399997                          does what its suppose to.   \n399998                                              great   \n399999                      so far so good. welds decent.   \n\n                                    summary  unixReviewTime  \\\n0                                  Amazing!      1352419200   \n1       Great Gospel VHS of the Cathedrals!      1325203200   \n2          A great document of a great band      1114041600   \n3                           YES!!  X LIVE!!      1112745600   \n4                       X have still got it      1291334400   \n...                                     ...             ...   \n399995                      Amazing Cleaner      1504137600   \n399996      Once installed it worked great.      1458518400   \n399997                           Works well      1509753600   \n399998                           Five Stars      1433030400   \n399999                           Five Stars      1512604800   \n\n                                             review_clean  sentiment  \n0       so sorry i didnt purchase this years ago when ...          2  \n1       believe me when i tell you that you will recei...          2  \n2       i have seen x live many times both in the earl...          2  \n3       i was so excited for this  finally a live conc...          2  \n4       x is one of the best punk bands ever i dont ev...          2  \n...                                                   ...        ...  \n399995  i used this cleaner as part of the first step ...          2  \n399996  the flashlight is fairly cheaply made and i ha...          1  \n399997                           does what its suppose to          2  \n399998                                              great          2  \n399999                        so far so good welds decent          2  \n\n[400000 rows x 12 columns]",
            "text/html": "<div>\n<style scoped>\n    .dataframe tbody tr th:only-of-type {\n        vertical-align: middle;\n    }\n\n    .dataframe tbody tr th {\n        vertical-align: top;\n    }\n\n    .dataframe thead th {\n        text-align: right;\n    }\n</style>\n<table border=\"1\" class=\"dataframe\">\n  <thead>\n    <tr style=\"text-align: right;\">\n      <th></th>\n      <th>overall</th>\n      <th>verified</th>\n      <th>reviewTime</th>\n      <th>reviewerID</th>\n      <th>asin</th>\n      <th>style</th>\n      <th>reviewerName</th>\n      <th>reviewText</th>\n      <th>summary</th>\n      <th>unixReviewTime</th>\n      <th>review_clean</th>\n      <th>sentiment</th>\n    </tr>\n  </thead>\n  <tbody>\n    <tr>\n      <th>0</th>\n      <td>5.0</td>\n      <td>True</td>\n      <td>11 9, 2012</td>\n      <td>A2M1CU2IRZG0K9</td>\n      <td>0005089549</td>\n      <td>{'Format:': ' VHS Tape'}</td>\n      <td>Terri</td>\n      <td>so sorry i didn't purchase this years ago when...</td>\n      <td>Amazing!</td>\n      <td>1352419200</td>\n      <td>so sorry i didnt purchase this years ago when ...</td>\n      <td>2</td>\n    </tr>\n    <tr>\n      <th>1</th>\n      <td>5.0</td>\n      <td>True</td>\n      <td>12 30, 2011</td>\n      <td>AFTUJYISOFHY6</td>\n      <td>0005089549</td>\n      <td>{'Format:': ' VHS Tape'}</td>\n      <td>Melissa D. Abercrombie</td>\n      <td>believe me when i tell you that you will recei...</td>\n      <td>Great Gospel VHS of the Cathedrals!</td>\n      <td>1325203200</td>\n      <td>believe me when i tell you that you will recei...</td>\n      <td>2</td>\n    </tr>\n    <tr>\n      <th>2</th>\n      <td>5.0</td>\n      <td>True</td>\n      <td>04 21, 2005</td>\n      <td>A3JVF9Y53BEOGC</td>\n      <td>000503860X</td>\n      <td>{'Format:': ' DVD'}</td>\n      <td>Anthony Thompson</td>\n      <td>i have seen x live many times, both in the ear...</td>\n      <td>A great document of a great band</td>\n      <td>1114041600</td>\n      <td>i have seen x live many times both in the earl...</td>\n      <td>2</td>\n    </tr>\n    <tr>\n      <th>3</th>\n      <td>5.0</td>\n      <td>True</td>\n      <td>04 6, 2005</td>\n      <td>A12VPEOEZS1KTC</td>\n      <td>000503860X</td>\n      <td>{'Format:': ' DVD'}</td>\n      <td>JadeRain</td>\n      <td>i was so excited for this!  finally, a live co...</td>\n      <td>YES!!  X LIVE!!</td>\n      <td>1112745600</td>\n      <td>i was so excited for this  finally a live conc...</td>\n      <td>2</td>\n    </tr>\n    <tr>\n      <th>4</th>\n      <td>5.0</td>\n      <td>True</td>\n      <td>12 3, 2010</td>\n      <td>ATLZNVLYKP9AZ</td>\n      <td>000503860X</td>\n      <td>{'Format:': ' DVD'}</td>\n      <td>T. Fisher</td>\n      <td>x is one of the best punk bands ever. i don't ...</td>\n      <td>X have still got it</td>\n      <td>1291334400</td>\n      <td>x is one of the best punk bands ever i dont ev...</td>\n      <td>2</td>\n    </tr>\n    <tr>\n      <th>...</th>\n      <td>...</td>\n      <td>...</td>\n      <td>...</td>\n      <td>...</td>\n      <td>...</td>\n      <td>...</td>\n      <td>...</td>\n      <td>...</td>\n      <td>...</td>\n      <td>...</td>\n      <td>...</td>\n      <td>...</td>\n    </tr>\n    <tr>\n      <th>399995</th>\n      <td>5.0</td>\n      <td>True</td>\n      <td>08 31, 2017</td>\n      <td>A2RCR40SNWKRH7</td>\n      <td>B00065W99Y</td>\n      <td>{'Size Name:': ' 1 Gallon'}</td>\n      <td>The Dirt Guy</td>\n      <td>i used this cleaner as part of the first step ...</td>\n      <td>Amazing Cleaner</td>\n      <td>1504137600</td>\n      <td>i used this cleaner as part of the first step ...</td>\n      <td>2</td>\n    </tr>\n    <tr>\n      <th>399996</th>\n      <td>3.0</td>\n      <td>True</td>\n      <td>03 21, 2016</td>\n      <td>A2C8BZOZKGW57H</td>\n      <td>B000VK4Q4K</td>\n      <td>{'Style:': ' 85-Lumen'}</td>\n      <td>Joel C.</td>\n      <td>the flashlight is fairly cheaply made and i ha...</td>\n      <td>Once installed it worked great.</td>\n      <td>1458518400</td>\n      <td>the flashlight is fairly cheaply made and i ha...</td>\n      <td>1</td>\n    </tr>\n    <tr>\n      <th>399997</th>\n      <td>5.0</td>\n      <td>True</td>\n      <td>11 4, 2017</td>\n      <td>A3QX3TEN2FS31K</td>\n      <td>B000I97FHY</td>\n      <td>{'Color:': ' white'}</td>\n      <td>LEROY A DUCK</td>\n      <td>does what its suppose to.</td>\n      <td>Works well</td>\n      <td>1509753600</td>\n      <td>does what its suppose to</td>\n      <td>2</td>\n    </tr>\n    <tr>\n      <th>399998</th>\n      <td>5.0</td>\n      <td>True</td>\n      <td>05 31, 2015</td>\n      <td>A1QZU5ZZJC5QYI</td>\n      <td>B0035YRCR2</td>\n      <td>{'Style:': ' Paddle On/Off Switch'}</td>\n      <td>Rick C.</td>\n      <td>great</td>\n      <td>Five Stars</td>\n      <td>1433030400</td>\n      <td>great</td>\n      <td>2</td>\n    </tr>\n    <tr>\n      <th>399999</th>\n      <td>5.0</td>\n      <td>True</td>\n      <td>12 7, 2017</td>\n      <td>A29S2AT06P80QR</td>\n      <td>B00F429Z7S</td>\n      <td>{'Size:': ' 3/32\"', 'Style:': ' 10# Box'}</td>\n      <td>Amazon Customer</td>\n      <td>so far so good. welds decent.</td>\n      <td>Five Stars</td>\n      <td>1512604800</td>\n      <td>so far so good welds decent</td>\n      <td>2</td>\n    </tr>\n  </tbody>\n</table>\n<p>400000 rows × 12 columns</p>\n</div>"
          },
          "metadata": {}
        }
      ]
    },
    {
      "cell_type": "code",
      "source": [
        "def calc_two_sentiment(overall):\n",
        "    '''This function encodes the rating 1 and 2 as 0, others as 1'''\n",
        "    if overall >= 3:\n",
        "        return 1\n",
        "    else:\n",
        "        return 0\n",
        "data['sentiment'] = data['overall'].apply(calc_two_sentiment)"
      ],
      "metadata": {
        "execution": {
          "iopub.status.busy": "2023-05-06T12:14:16.883477Z",
          "iopub.execute_input": "2023-05-06T12:14:16.883840Z",
          "iopub.status.idle": "2023-05-06T12:14:17.026522Z",
          "shell.execute_reply.started": "2023-05-06T12:14:16.883807Z",
          "shell.execute_reply": "2023-05-06T12:14:17.025627Z"
        },
        "trusted": true,
        "id": "ymzuR5_ufZcP"
      },
      "execution_count": null,
      "outputs": []
    },
    {
      "cell_type": "code",
      "source": [
        "df_torch = data.head(100000)\n",
        "df_torch= df_torch.loc[:, ['review_clean', 'sentiment']]\n",
        "train_data, test_data = train_test_split(df_torch, test_size=0.2,random_state = 42)"
      ],
      "metadata": {
        "execution": {
          "iopub.status.busy": "2023-05-06T12:14:17.028862Z",
          "iopub.execute_input": "2023-05-06T12:14:17.029230Z",
          "iopub.status.idle": "2023-05-06T12:14:17.053784Z",
          "shell.execute_reply.started": "2023-05-06T12:14:17.029198Z",
          "shell.execute_reply": "2023-05-06T12:14:17.052967Z"
        },
        "trusted": true,
        "id": "gTimFwtYfZcQ"
      },
      "execution_count": null,
      "outputs": []
    },
    {
      "cell_type": "code",
      "source": [
        "test_data.sentiment.value_counts()\n"
      ],
      "metadata": {
        "execution": {
          "iopub.status.busy": "2023-05-06T12:14:17.055087Z",
          "iopub.execute_input": "2023-05-06T12:14:17.055521Z",
          "iopub.status.idle": "2023-05-06T12:14:17.063623Z",
          "shell.execute_reply.started": "2023-05-06T12:14:17.055473Z",
          "shell.execute_reply": "2023-05-06T12:14:17.062551Z"
        },
        "trusted": true,
        "id": "j_uBlWtgfZcQ",
        "outputId": "7f60151b-33a1-49a7-dbbe-de92d17452a7"
      },
      "execution_count": null,
      "outputs": [
        {
          "execution_count": 23,
          "output_type": "execute_result",
          "data": {
            "text/plain": "1    18395\n0     1605\nName: sentiment, dtype: int64"
          },
          "metadata": {}
        }
      ]
    },
    {
      "cell_type": "code",
      "source": [
        "train_data.dropna(inplace=True) # last more cleaning to make sure for null values"
      ],
      "metadata": {
        "execution": {
          "iopub.status.busy": "2023-05-06T12:14:17.065007Z",
          "iopub.execute_input": "2023-05-06T12:14:17.066153Z",
          "iopub.status.idle": "2023-05-06T12:14:17.091842Z",
          "shell.execute_reply.started": "2023-05-06T12:14:17.066052Z",
          "shell.execute_reply": "2023-05-06T12:14:17.091061Z"
        },
        "trusted": true,
        "id": "wUDBNAf6fZcQ"
      },
      "execution_count": null,
      "outputs": []
    },
    {
      "cell_type": "code",
      "source": [
        "train_data, test_data = train_test_split(train_data, test_size=0.2,random_state = 42)"
      ],
      "metadata": {
        "execution": {
          "iopub.status.busy": "2023-05-06T12:14:23.600089Z",
          "iopub.execute_input": "2023-05-06T12:14:23.600446Z",
          "iopub.status.idle": "2023-05-06T12:14:23.618415Z",
          "shell.execute_reply.started": "2023-05-06T12:14:23.600416Z",
          "shell.execute_reply": "2023-05-06T12:14:23.617551Z"
        },
        "trusted": true,
        "id": "fLLG0CTzfZcR"
      },
      "execution_count": null,
      "outputs": []
    },
    {
      "cell_type": "code",
      "source": [
        "train_target = train_data.sentiment\n",
        "train_texts = train_data.review_clean\n",
        "\n",
        "test_target = test_data.sentiment\n",
        "test_texts = test_data.review_clean"
      ],
      "metadata": {
        "execution": {
          "iopub.status.busy": "2023-05-06T12:14:24.665606Z",
          "iopub.execute_input": "2023-05-06T12:14:24.665955Z",
          "iopub.status.idle": "2023-05-06T12:14:24.678477Z",
          "shell.execute_reply.started": "2023-05-06T12:14:24.665928Z",
          "shell.execute_reply": "2023-05-06T12:14:24.677564Z"
        },
        "trusted": true,
        "id": "g9nuuS50fZcR"
      },
      "execution_count": null,
      "outputs": []
    },
    {
      "cell_type": "code",
      "source": [
        "def converting_texts(texts):\n",
        "    collected_texts = []\n",
        "    for text in texts:\n",
        "        collected_texts.append(text)\n",
        "    return collected_texts\n",
        "        \n",
        "train_texts = converting_texts(train_texts)\n",
        "test_texts = converting_texts(test_texts)"
      ],
      "metadata": {
        "execution": {
          "iopub.status.busy": "2023-05-06T12:14:43.637175Z",
          "iopub.execute_input": "2023-05-06T12:14:43.637550Z",
          "iopub.status.idle": "2023-05-06T12:14:43.664725Z",
          "shell.execute_reply.started": "2023-05-06T12:14:43.637514Z",
          "shell.execute_reply": "2023-05-06T12:14:43.663814Z"
        },
        "trusted": true,
        "id": "9Xq2wgZ-fZcS"
      },
      "execution_count": null,
      "outputs": []
    },
    {
      "cell_type": "code",
      "source": [
        "max_feat= 12000 #seting max features to define max number of tokenizer words\n",
        "\n",
        "tokenizer = Tokenizer(num_words=max_feat)\n",
        "tokenizer.fit_on_texts(train_texts)\n",
        "# updates internal vocabulary based on a list of texts\n",
        "# in the case where texts contains lists, we assume each entry of the lists to be a token\n",
        "# required before using texts_to_sequences or texts_to_matrix\n",
        "\n",
        "train_texts = tokenizer.texts_to_sequences(train_texts)\n",
        "test_texts = tokenizer.texts_to_sequences(test_texts)\n",
        "# transforms each text in texts to a sequence of integers\n",
        "# Only top num_words-1 most frequent words will be taken into account \n",
        "# Only words known by the tokenizer will be taken into account"
      ],
      "metadata": {
        "execution": {
          "iopub.status.busy": "2023-05-06T12:14:58.656191Z",
          "iopub.execute_input": "2023-05-06T12:14:58.656552Z",
          "iopub.status.idle": "2023-05-06T12:15:07.045835Z",
          "shell.execute_reply.started": "2023-05-06T12:14:58.656517Z",
          "shell.execute_reply": "2023-05-06T12:15:07.044900Z"
        },
        "trusted": true,
        "id": "op8G96k8fZcS"
      },
      "execution_count": null,
      "outputs": []
    },
    {
      "cell_type": "code",
      "source": [
        "max_len = max(len(train_ex) for train_ex in train_texts) #setting the max length\n",
        "\n",
        "# using pad_sequence tool from Keras\n",
        "# transforms a list of sequences to into a 2D Numpy array of shape \n",
        "# the maxlen argument for the length of the longest sequence in the list\n",
        "train_texts = pad_sequences(train_texts, maxlen=max_len)\n",
        "test_texts = pad_sequences(test_texts, maxlen=max_len)"
      ],
      "metadata": {
        "execution": {
          "iopub.status.busy": "2023-05-06T12:15:19.466975Z",
          "iopub.execute_input": "2023-05-06T12:15:19.467325Z",
          "iopub.status.idle": "2023-05-06T12:15:20.298752Z",
          "shell.execute_reply.started": "2023-05-06T12:15:19.467295Z",
          "shell.execute_reply": "2023-05-06T12:15:20.297817Z"
        },
        "trusted": true,
        "id": "avwTgihcfZcS"
      },
      "execution_count": null,
      "outputs": []
    },
    {
      "cell_type": "code",
      "source": [
        "def build_model():\n",
        "    sequences = layers.Input(shape=(max_len,))\n",
        "    embedded = layers.Embedding(max_feat, 64)(sequences)\n",
        "    x = layers.Conv1D(64, 3, activation='relu')(embedded)\n",
        "    x = layers.BatchNormalization()(x)\n",
        "    x = layers.MaxPool1D(3)(x)\n",
        "    x = layers.Conv1D(64, 5, activation='relu')(x)\n",
        "    x = layers.GlobalMaxPool1D()(x)\n",
        "    x = layers.Flatten()(x)\n",
        "    x = layers.Dense(100, activation='relu')(x)\n",
        "    predictions = layers.Dense(1, activation='sigmoid')(x)\n",
        "    model = models.Model(inputs=sequences, outputs=predictions)\n",
        "    model.compile(\n",
        "        optimizer='rmsprop',\n",
        "        loss='binary_crossentropy',\n",
        "        metrics=['binary_accuracy']\n",
        "    )\n",
        "    return model\n",
        "    \n",
        "model = build_model()"
      ],
      "metadata": {
        "execution": {
          "iopub.status.busy": "2023-05-06T12:15:52.368775Z",
          "iopub.execute_input": "2023-05-06T12:15:52.369125Z",
          "iopub.status.idle": "2023-05-06T12:15:52.458008Z",
          "shell.execute_reply.started": "2023-05-06T12:15:52.369096Z",
          "shell.execute_reply": "2023-05-06T12:15:52.457159Z"
        },
        "trusted": true,
        "id": "yWJiuBnefZcT"
      },
      "execution_count": null,
      "outputs": []
    },
    {
      "cell_type": "code",
      "source": [
        "model.fit(\n",
        "    train_texts, \n",
        "    train_target, \n",
        "    batch_size=128,\n",
        "    epochs=10,\n",
        "    validation_data=(test_texts, test_target) )"
      ],
      "metadata": {
        "execution": {
          "iopub.status.busy": "2023-05-06T12:17:26.366662Z",
          "iopub.execute_input": "2023-05-06T12:17:26.367085Z",
          "iopub.status.idle": "2023-05-06T12:25:50.181233Z",
          "shell.execute_reply.started": "2023-05-06T12:17:26.367050Z",
          "shell.execute_reply": "2023-05-06T12:25:50.180377Z"
        },
        "trusted": true,
        "id": "XGfoiXYMfZcT",
        "outputId": "3c1c18a6-c2c5-4417-c1b0-6f77d928950f"
      },
      "execution_count": null,
      "outputs": [
        {
          "name": "stdout",
          "text": "Epoch 1/10\n500/500 [==============================] - 60s 117ms/step - loss: 0.2102 - binary_accuracy: 0.9273 - val_loss: 0.2272 - val_binary_accuracy: 0.9302\nEpoch 2/10\n500/500 [==============================] - 51s 102ms/step - loss: 0.1406 - binary_accuracy: 0.9462 - val_loss: 0.1699 - val_binary_accuracy: 0.9380\nEpoch 3/10\n500/500 [==============================] - 49s 98ms/step - loss: 0.0943 - binary_accuracy: 0.9652 - val_loss: 0.1829 - val_binary_accuracy: 0.9346\nEpoch 4/10\n500/500 [==============================] - 45s 91ms/step - loss: 0.0602 - binary_accuracy: 0.9793 - val_loss: 0.2355 - val_binary_accuracy: 0.9377\nEpoch 5/10\n500/500 [==============================] - 43s 86ms/step - loss: 0.0419 - binary_accuracy: 0.9858 - val_loss: 0.2576 - val_binary_accuracy: 0.9334\nEpoch 6/10\n500/500 [==============================] - 43s 86ms/step - loss: 0.0325 - binary_accuracy: 0.9894 - val_loss: 0.3079 - val_binary_accuracy: 0.9321\nEpoch 7/10\n500/500 [==============================] - 43s 86ms/step - loss: 0.0283 - binary_accuracy: 0.9907 - val_loss: 0.3966 - val_binary_accuracy: 0.9335\nEpoch 8/10\n500/500 [==============================] - 43s 86ms/step - loss: 0.0242 - binary_accuracy: 0.9920 - val_loss: 0.3971 - val_binary_accuracy: 0.9277\nEpoch 9/10\n500/500 [==============================] - 42s 85ms/step - loss: 0.0217 - binary_accuracy: 0.9931 - val_loss: 0.4380 - val_binary_accuracy: 0.9333\nEpoch 10/10\n500/500 [==============================] - 42s 85ms/step - loss: 0.0222 - binary_accuracy: 0.9933 - val_loss: 0.4293 - val_binary_accuracy: 0.9299\n",
          "output_type": "stream"
        },
        {
          "execution_count": 33,
          "output_type": "execute_result",
          "data": {
            "text/plain": "<keras.callbacks.History at 0x76383777bb20>"
          },
          "metadata": {}
        }
      ]
    },
    {
      "cell_type": "code",
      "source": [
        "def build_model():\n",
        "    sequences = layers.Input(shape=(max_len,))\n",
        "    embedded = layers.Embedding(max_feat, 64)(sequences)\n",
        "    x = layers.Conv1D(64, 3, activation='relu')(embedded)\n",
        "    x = layers.BatchNormalization()(x)\n",
        "    x = layers.MaxPool1D(3)(x)\n",
        "    x = layers.Conv1D(64, 5, activation='relu')(x)\n",
        "    x = layers.BatchNormalization()(x)\n",
        "    x = layers.MaxPool1D(5)(x)\n",
        "    x = layers.Conv1D(64, 5, activation='relu')(x)\n",
        "    x = layers.GlobalMaxPool1D()(x)\n",
        "    x = layers.Flatten()(x)\n",
        "    x = layers.Dense(100, activation='relu')(x)\n",
        "    predictions = layers.Dense(1, activation='sigmoid')(x)\n",
        "    model = models.Model(inputs=sequences, outputs=predictions)\n",
        "    model.compile(\n",
        "        optimizer='rmsprop',\n",
        "        loss='binary_crossentropy',\n",
        "        metrics=['binary_accuracy']\n",
        "    )\n",
        "    return model\n",
        "    \n",
        "model = build_model()"
      ],
      "metadata": {
        "execution": {
          "iopub.status.busy": "2023-05-06T09:27:06.720290Z",
          "iopub.execute_input": "2023-05-06T09:27:06.721243Z",
          "iopub.status.idle": "2023-05-06T09:27:09.278314Z",
          "shell.execute_reply.started": "2023-05-06T09:27:06.721208Z",
          "shell.execute_reply": "2023-05-06T09:27:09.277398Z"
        },
        "trusted": true,
        "id": "O7e-4xUWfZcU"
      },
      "execution_count": null,
      "outputs": []
    },
    {
      "cell_type": "code",
      "source": [
        "model.fit(\n",
        "    train_texts, \n",
        "    train_target, \n",
        "    batch_size=128,\n",
        "    epochs=20,\n",
        "    validation_data=(test_texts, test_target) )"
      ],
      "metadata": {
        "execution": {
          "iopub.status.busy": "2023-05-06T09:27:09.279557Z",
          "iopub.execute_input": "2023-05-06T09:27:09.281023Z",
          "iopub.status.idle": "2023-05-06T09:44:33.774704Z",
          "shell.execute_reply.started": "2023-05-06T09:27:09.280987Z",
          "shell.execute_reply": "2023-05-06T09:44:33.773838Z"
        },
        "trusted": true,
        "id": "0wgoZCyrfZcV",
        "outputId": "d53ec141-5111-4010-f510-730f0bad19d4"
      },
      "execution_count": null,
      "outputs": [
        {
          "name": "stdout",
          "text": "Epoch 1/20\n500/500 [==============================] - 88s 160ms/step - loss: 0.2552 - binary_accuracy: 0.9191 - val_loss: 0.2202 - val_binary_accuracy: 0.9224\nEpoch 2/20\n500/500 [==============================] - 66s 132ms/step - loss: 0.1546 - binary_accuracy: 0.9413 - val_loss: 0.2414 - val_binary_accuracy: 0.9283\nEpoch 3/20\n500/500 [==============================] - 59s 118ms/step - loss: 0.1196 - binary_accuracy: 0.9554 - val_loss: 0.3051 - val_binary_accuracy: 0.9320\nEpoch 4/20\n500/500 [==============================] - 54s 108ms/step - loss: 0.0835 - binary_accuracy: 0.9696 - val_loss: 0.3453 - val_binary_accuracy: 0.8594\nEpoch 5/20\n500/500 [==============================] - 51s 102ms/step - loss: 0.0542 - binary_accuracy: 0.9819 - val_loss: 0.2257 - val_binary_accuracy: 0.9269\nEpoch 6/20\n500/500 [==============================] - 48s 97ms/step - loss: 0.0403 - binary_accuracy: 0.9862 - val_loss: 0.3096 - val_binary_accuracy: 0.9364\nEpoch 7/20\n500/500 [==============================] - 46s 93ms/step - loss: 0.0321 - binary_accuracy: 0.9898 - val_loss: 0.4034 - val_binary_accuracy: 0.9130\nEpoch 8/20\n500/500 [==============================] - 47s 95ms/step - loss: 0.0282 - binary_accuracy: 0.9908 - val_loss: 0.5230 - val_binary_accuracy: 0.9312\nEpoch 9/20\n500/500 [==============================] - 46s 91ms/step - loss: 0.0259 - binary_accuracy: 0.9917 - val_loss: 0.7291 - val_binary_accuracy: 0.8387\nEpoch 10/20\n500/500 [==============================] - 46s 91ms/step - loss: 0.0240 - binary_accuracy: 0.9929 - val_loss: 0.3928 - val_binary_accuracy: 0.9326\nEpoch 11/20\n500/500 [==============================] - 45s 89ms/step - loss: 0.0218 - binary_accuracy: 0.9933 - val_loss: 0.4415 - val_binary_accuracy: 0.9325\nEpoch 12/20\n500/500 [==============================] - 45s 90ms/step - loss: 0.0209 - binary_accuracy: 0.9936 - val_loss: 0.4590 - val_binary_accuracy: 0.9309\nEpoch 13/20\n500/500 [==============================] - 45s 90ms/step - loss: 0.0213 - binary_accuracy: 0.9934 - val_loss: 0.4766 - val_binary_accuracy: 0.9306\nEpoch 14/20\n500/500 [==============================] - 45s 90ms/step - loss: 0.0198 - binary_accuracy: 0.9941 - val_loss: 0.5581 - val_binary_accuracy: 0.8946\nEpoch 15/20\n500/500 [==============================] - 45s 90ms/step - loss: 0.0180 - binary_accuracy: 0.9946 - val_loss: 0.4455 - val_binary_accuracy: 0.9306\nEpoch 16/20\n500/500 [==============================] - 45s 90ms/step - loss: 0.0183 - binary_accuracy: 0.9944 - val_loss: 0.5583 - val_binary_accuracy: 0.9341\nEpoch 17/20\n500/500 [==============================] - 44s 89ms/step - loss: 0.0167 - binary_accuracy: 0.9950 - val_loss: 0.5688 - val_binary_accuracy: 0.9369\nEpoch 18/20\n500/500 [==============================] - 44s 88ms/step - loss: 0.0184 - binary_accuracy: 0.9949 - val_loss: 0.6528 - val_binary_accuracy: 0.8996\nEpoch 19/20\n500/500 [==============================] - 45s 90ms/step - loss: 0.0154 - binary_accuracy: 0.9952 - val_loss: 0.6242 - val_binary_accuracy: 0.9351\nEpoch 20/20\n500/500 [==============================] - 44s 87ms/step - loss: 0.0166 - binary_accuracy: 0.9951 - val_loss: 0.6569 - val_binary_accuracy: 0.9309\n",
          "output_type": "stream"
        },
        {
          "execution_count": 16,
          "output_type": "execute_result",
          "data": {
            "text/plain": "<keras.callbacks.History at 0x76383ba48f10>"
          },
          "metadata": {}
        }
      ]
    },
    {
      "cell_type": "markdown",
      "source": [],
      "metadata": {
        "id": "4DSeKL5hfZcV"
      }
    },
    {
      "cell_type": "code",
      "source": [
        "def build_lstm_model():\n",
        "    sequences = layers.Input(shape=(max_len,))\n",
        "    embedded = layers.Embedding(max_feat, 64)(sequences)\n",
        "    x = layers.LSTM(128, return_sequences=True)(embedded)\n",
        "    x = layers.LSTM(128)(x)\n",
        "    x = layers.Dense(32, activation='relu')(x)\n",
        "    x = layers.Dense(100, activation='relu')(x)\n",
        "    predictions = layers.Dense(1, activation='sigmoid')(x)\n",
        "    model = models.Model(inputs=sequences, outputs=predictions)\n",
        "    model.compile(\n",
        "        optimizer='rmsprop',\n",
        "        loss='binary_crossentropy',\n",
        "        metrics=['binary_accuracy']\n",
        "    )\n",
        "    return model\n",
        "    \n",
        "rnn_model = build_lstm_model()"
      ],
      "metadata": {
        "execution": {
          "iopub.status.busy": "2023-05-06T12:33:04.947283Z",
          "iopub.execute_input": "2023-05-06T12:33:04.947640Z",
          "iopub.status.idle": "2023-05-06T12:33:05.423568Z",
          "shell.execute_reply.started": "2023-05-06T12:33:04.947612Z",
          "shell.execute_reply": "2023-05-06T12:33:05.422634Z"
        },
        "trusted": true,
        "id": "HKO_yDRgfZcW"
      },
      "execution_count": null,
      "outputs": []
    },
    {
      "cell_type": "code",
      "source": [
        "rnn_model.fit(\n",
        "    train_texts, \n",
        "    train_target, \n",
        "    batch_size=128,\n",
        "    epochs=10,\n",
        "    validation_data=(test_texts, test_target) )"
      ],
      "metadata": {
        "execution": {
          "iopub.status.busy": "2023-05-06T12:33:15.386104Z",
          "iopub.execute_input": "2023-05-06T12:33:15.386623Z",
          "iopub.status.idle": "2023-05-06T13:54:40.662366Z",
          "shell.execute_reply.started": "2023-05-06T12:33:15.386591Z",
          "shell.execute_reply": "2023-05-06T13:54:40.661417Z"
        },
        "trusted": true,
        "id": "pCiCuU98fZcX",
        "outputId": "2793a6af-ce28-4b10-d617-a8a9bea929fa"
      },
      "execution_count": null,
      "outputs": [
        {
          "name": "stdout",
          "text": "Epoch 1/10\n500/500 [==============================] - 487s 967ms/step - loss: 0.2444 - binary_accuracy: 0.9189 - val_loss: 0.2025 - val_binary_accuracy: 0.9235\nEpoch 2/10\n500/500 [==============================] - 492s 984ms/step - loss: 0.1784 - binary_accuracy: 0.9331 - val_loss: 0.1830 - val_binary_accuracy: 0.9348\nEpoch 3/10\n500/500 [==============================] - 482s 964ms/step - loss: 0.1583 - binary_accuracy: 0.9406 - val_loss: 0.1871 - val_binary_accuracy: 0.9349\nEpoch 4/10\n500/500 [==============================] - 482s 964ms/step - loss: 0.1469 - binary_accuracy: 0.9448 - val_loss: 0.1754 - val_binary_accuracy: 0.9366\nEpoch 5/10\n500/500 [==============================] - 492s 984ms/step - loss: 0.1408 - binary_accuracy: 0.9482 - val_loss: 0.1803 - val_binary_accuracy: 0.9348\nEpoch 6/10\n500/500 [==============================] - 482s 964ms/step - loss: 0.1313 - binary_accuracy: 0.9521 - val_loss: 0.1844 - val_binary_accuracy: 0.9233\nEpoch 7/10\n500/500 [==============================] - 492s 984ms/step - loss: 0.1249 - binary_accuracy: 0.9544 - val_loss: 0.1931 - val_binary_accuracy: 0.9369\nEpoch 8/10\n500/500 [==============================] - 492s 984ms/step - loss: 0.1179 - binary_accuracy: 0.9578 - val_loss: 0.1850 - val_binary_accuracy: 0.9286\nEpoch 9/10\n500/500 [==============================] - 492s 984ms/step - loss: 0.1126 - binary_accuracy: 0.9594 - val_loss: 0.1845 - val_binary_accuracy: 0.9253\nEpoch 10/10\n500/500 [==============================] - 492s 984ms/step - loss: 0.1073 - binary_accuracy: 0.9624 - val_loss: 0.2059 - val_binary_accuracy: 0.9209\n",
          "output_type": "stream"
        },
        {
          "execution_count": 41,
          "output_type": "execute_result",
          "data": {
            "text/plain": "<keras.callbacks.History at 0x76375979e770>"
          },
          "metadata": {}
        }
      ]
    },
    {
      "cell_type": "code",
      "source": [
        "def build_rnn_model():\n",
        "    sequences = layers.Input(shape=(max_len,))\n",
        "    embedded = layers.Embedding(max_feat, 64)(sequences)\n",
        "    x = layers.GRU(128, return_sequences=True)(embedded)\n",
        "    x = layers.GRU(128)(x)\n",
        "    x = layers.Dense(32, activation='relu')(x)\n",
        "    x = layers.Dense(100, activation='relu')(x)\n",
        "    predictions = layers.Dense(1, activation='sigmoid')(x)\n",
        "    model = models.Model(inputs=sequences, outputs=predictions)\n",
        "    model.compile(\n",
        "        optimizer='rmsprop',\n",
        "        loss='binary_crossentropy',\n",
        "        metrics=['binary_accuracy']\n",
        "    )\n",
        "    return model\n",
        "    \n",
        "rnn_model = build_rnn_model()"
      ],
      "metadata": {
        "execution": {
          "iopub.status.busy": "2023-05-06T09:44:33.777238Z",
          "iopub.execute_input": "2023-05-06T09:44:33.777623Z",
          "iopub.status.idle": "2023-05-06T09:44:34.226851Z",
          "shell.execute_reply.started": "2023-05-06T09:44:33.777589Z",
          "shell.execute_reply": "2023-05-06T09:44:34.225843Z"
        },
        "trusted": true,
        "id": "ctDuvOQwfZcX"
      },
      "execution_count": null,
      "outputs": []
    },
    {
      "cell_type": "code",
      "source": [
        "\n",
        "rnn_model.fit(\n",
        "    train_texts, \n",
        "    train_target, \n",
        "    batch_size=128,\n",
        "    epochs=20,\n",
        "    validation_data=(test_texts, test_target) )"
      ],
      "metadata": {
        "execution": {
          "iopub.status.busy": "2023-05-06T09:44:34.228265Z",
          "iopub.execute_input": "2023-05-06T09:44:34.228624Z",
          "iopub.status.idle": "2023-05-06T12:12:32.865506Z",
          "shell.execute_reply.started": "2023-05-06T09:44:34.228586Z",
          "shell.execute_reply": "2023-05-06T12:12:32.864437Z"
        },
        "trusted": true,
        "id": "z7GQzD6OfZcX",
        "outputId": "9032febe-6b4b-4b04-ad46-3df3591192f1"
      },
      "execution_count": null,
      "outputs": [
        {
          "name": "stdout",
          "text": "Epoch 1/20\n500/500 [==============================] - 453s 898ms/step - loss: 0.2331 - binary_accuracy: 0.9220 - val_loss: 0.2112 - val_binary_accuracy: 0.9261\nEpoch 2/20\n500/500 [==============================] - 447s 894ms/step - loss: 0.1834 - binary_accuracy: 0.9324 - val_loss: 0.1983 - val_binary_accuracy: 0.9292\nEpoch 3/20\n500/500 [==============================] - 436s 871ms/step - loss: 0.1673 - binary_accuracy: 0.9372 - val_loss: 0.1921 - val_binary_accuracy: 0.9362\nEpoch 4/20\n500/500 [==============================] - 447s 895ms/step - loss: 0.1513 - binary_accuracy: 0.9428 - val_loss: 0.1834 - val_binary_accuracy: 0.9361\nEpoch 5/20\n500/500 [==============================] - 436s 872ms/step - loss: 0.1390 - binary_accuracy: 0.9483 - val_loss: 0.1740 - val_binary_accuracy: 0.9354\nEpoch 6/20\n500/500 [==============================] - 447s 895ms/step - loss: 0.1267 - binary_accuracy: 0.9532 - val_loss: 0.1702 - val_binary_accuracy: 0.9356\nEpoch 7/20\n500/500 [==============================] - 447s 894ms/step - loss: 0.1165 - binary_accuracy: 0.9576 - val_loss: 0.1722 - val_binary_accuracy: 0.9358\nEpoch 8/20\n500/500 [==============================] - 447s 894ms/step - loss: 0.1077 - binary_accuracy: 0.9617 - val_loss: 0.1714 - val_binary_accuracy: 0.9365\nEpoch 9/20\n500/500 [==============================] - 447s 894ms/step - loss: 0.0989 - binary_accuracy: 0.9654 - val_loss: 0.1842 - val_binary_accuracy: 0.9266\nEpoch 10/20\n500/500 [==============================] - 435s 871ms/step - loss: 0.0913 - binary_accuracy: 0.9688 - val_loss: 0.2112 - val_binary_accuracy: 0.9272\nEpoch 11/20\n500/500 [==============================] - 447s 894ms/step - loss: 0.0820 - binary_accuracy: 0.9722 - val_loss: 0.1921 - val_binary_accuracy: 0.9331\nEpoch 12/20\n500/500 [==============================] - 436s 871ms/step - loss: 0.0741 - binary_accuracy: 0.9755 - val_loss: 0.2092 - val_binary_accuracy: 0.9338\nEpoch 13/20\n500/500 [==============================] - 436s 872ms/step - loss: 0.0674 - binary_accuracy: 0.9787 - val_loss: 0.2396 - val_binary_accuracy: 0.9314\nEpoch 14/20\n500/500 [==============================] - 447s 895ms/step - loss: 0.0614 - binary_accuracy: 0.9806 - val_loss: 0.2510 - val_binary_accuracy: 0.9267\nEpoch 15/20\n500/500 [==============================] - 447s 894ms/step - loss: 0.0556 - binary_accuracy: 0.9826 - val_loss: 0.2544 - val_binary_accuracy: 0.9337\nEpoch 16/20\n500/500 [==============================] - 447s 894ms/step - loss: 0.0509 - binary_accuracy: 0.9845 - val_loss: 0.2709 - val_binary_accuracy: 0.9189\nEpoch 17/20\n500/500 [==============================] - 435s 871ms/step - loss: 0.0458 - binary_accuracy: 0.9857 - val_loss: 0.3210 - val_binary_accuracy: 0.9208\nEpoch 18/20\n500/500 [==============================] - 447s 894ms/step - loss: 0.0423 - binary_accuracy: 0.9874 - val_loss: 0.3244 - val_binary_accuracy: 0.9248\nEpoch 19/20\n500/500 [==============================] - 447s 894ms/step - loss: 0.0389 - binary_accuracy: 0.9885 - val_loss: 0.2905 - val_binary_accuracy: 0.9293\nEpoch 20/20\n500/500 [==============================] - 447s 894ms/step - loss: 0.0347 - binary_accuracy: 0.9894 - val_loss: 0.3738 - val_binary_accuracy: 0.9071\n",
          "output_type": "stream"
        },
        {
          "execution_count": 18,
          "output_type": "execute_result",
          "data": {
            "text/plain": "<keras.callbacks.History at 0x763838703460>"
          },
          "metadata": {}
        }
      ]
    },
    {
      "cell_type": "code",
      "source": [
        "# to use pandas dataframe\n",
        "import pandas as pd \n",
        "import numpy as np\n",
        "\n",
        "# for modeling and evaluation\n",
        "from transformers import BertTokenizer\n",
        "from transformers import BertForSequenceClassification, AdamW, BertConfig\n",
        "from transformers import get_linear_schedule_with_warmup\n",
        "from keras.utils import pad_sequences\n",
        "from sklearn.model_selection import train_test_split\n",
        "from torch.utils.data import TensorDataset, DataLoader, RandomSampler, SequentialSampler\n",
        "import random\n",
        "\n",
        "import time\n",
        "import datetime\n",
        "\n",
        "# to plot\n",
        "import matplotlib.pyplot as plt\n",
        "%matplotlib inline\n",
        "import seaborn as sns"
      ],
      "metadata": {
        "execution": {
          "iopub.status.busy": "2023-05-06T16:34:11.023814Z",
          "iopub.execute_input": "2023-05-06T16:34:11.024176Z",
          "iopub.status.idle": "2023-05-06T16:34:11.033720Z",
          "shell.execute_reply.started": "2023-05-06T16:34:11.024147Z",
          "shell.execute_reply": "2023-05-06T16:34:11.032878Z"
        },
        "trusted": true,
        "id": "MmyJe3-BfZcX"
      },
      "execution_count": null,
      "outputs": []
    },
    {
      "cell_type": "code",
      "source": [
        "import torch"
      ],
      "metadata": {
        "execution": {
          "iopub.status.busy": "2023-05-06T16:34:11.253425Z",
          "iopub.execute_input": "2023-05-06T16:34:11.253992Z",
          "iopub.status.idle": "2023-05-06T16:34:11.258985Z",
          "shell.execute_reply.started": "2023-05-06T16:34:11.253960Z",
          "shell.execute_reply": "2023-05-06T16:34:11.258081Z"
        },
        "trusted": true,
        "id": "BoSASn6IfZcY"
      },
      "execution_count": null,
      "outputs": []
    },
    {
      "cell_type": "code",
      "source": [
        "import tensorflow as tf\n",
        "\n",
        "# find the exact GPU name and assign it to this notebook\n",
        "device_name = tf.test.gpu_device_name()\n",
        "\n",
        "# To check the device name is found like below\n",
        "if device_name == '/device:GPU:0':\n",
        "    print('Found GPU at: {}'.format(device_name))\n",
        "else:\n",
        "    raise SystemError('GPU device not found')"
      ],
      "metadata": {
        "execution": {
          "iopub.status.busy": "2023-05-06T16:34:11.708431Z",
          "iopub.execute_input": "2023-05-06T16:34:11.709450Z",
          "iopub.status.idle": "2023-05-06T16:34:11.720009Z",
          "shell.execute_reply.started": "2023-05-06T16:34:11.709403Z",
          "shell.execute_reply": "2023-05-06T16:34:11.719047Z"
        },
        "trusted": true,
        "id": "K-FapMpDfZcY",
        "outputId": "f82bf9c7-7b3e-4520-d116-6ebba3517e85"
      },
      "execution_count": null,
      "outputs": [
        {
          "name": "stdout",
          "text": "Found GPU at: /device:GPU:0\n",
          "output_type": "stream"
        }
      ]
    },
    {
      "cell_type": "code",
      "source": [
        "data = pd.read_csv(\"/kaggle/input/data-work/data_work\")\n",
        "data['reviewText']=data['reviewText'].str.lower()\n",
        "import string\n",
        "string.punctuation \n",
        "def remove_punctuation(text):\n",
        "    '''this function splits the words to letters, remove punctuation and \n",
        "        again getting together letters as words '''\n",
        "    text_no_punc = \"\".join([c for c in text if c not in string.punctuation])\n",
        "    return text_no_punc\n",
        "data['review_clean'] = data['reviewText'].apply(lambda x: remove_punctuation(x))\n",
        "data.head()"
      ],
      "metadata": {
        "execution": {
          "iopub.status.busy": "2023-05-06T16:34:13.170427Z",
          "iopub.execute_input": "2023-05-06T16:34:13.171117Z",
          "iopub.status.idle": "2023-05-06T16:34:38.417275Z",
          "shell.execute_reply.started": "2023-05-06T16:34:13.171072Z",
          "shell.execute_reply": "2023-05-06T16:34:38.416302Z"
        },
        "trusted": true,
        "id": "D8xF55VffZcY",
        "outputId": "1491eb83-eeed-4fb5-e744-2a1dde2233b5"
      },
      "execution_count": null,
      "outputs": [
        {
          "execution_count": 101,
          "output_type": "execute_result",
          "data": {
            "text/plain": "   overall  verified   reviewTime      reviewerID        asin  \\\n0      5.0      True   11 9, 2012  A2M1CU2IRZG0K9  0005089549   \n1      5.0      True  12 30, 2011   AFTUJYISOFHY6  0005089549   \n2      5.0      True  04 21, 2005  A3JVF9Y53BEOGC  000503860X   \n3      5.0      True   04 6, 2005  A12VPEOEZS1KTC  000503860X   \n4      5.0      True   12 3, 2010   ATLZNVLYKP9AZ  000503860X   \n\n                      style            reviewerName  \\\n0  {'Format:': ' VHS Tape'}                   Terri   \n1  {'Format:': ' VHS Tape'}  Melissa D. Abercrombie   \n2       {'Format:': ' DVD'}        Anthony Thompson   \n3       {'Format:': ' DVD'}                JadeRain   \n4       {'Format:': ' DVD'}               T. Fisher   \n\n                                          reviewText  \\\n0  so sorry i didn't purchase this years ago when...   \n1  believe me when i tell you that you will recei...   \n2  i have seen x live many times, both in the ear...   \n3  i was so excited for this!  finally, a live co...   \n4  x is one of the best punk bands ever. i don't ...   \n\n                               summary  unixReviewTime  \\\n0                             Amazing!      1352419200   \n1  Great Gospel VHS of the Cathedrals!      1325203200   \n2     A great document of a great band      1114041600   \n3                      YES!!  X LIVE!!      1112745600   \n4                  X have still got it      1291334400   \n\n                                        review_clean  \n0  so sorry i didnt purchase this years ago when ...  \n1  believe me when i tell you that you will recei...  \n2  i have seen x live many times both in the earl...  \n3  i was so excited for this  finally a live conc...  \n4  x is one of the best punk bands ever i dont ev...  ",
            "text/html": "<div>\n<style scoped>\n    .dataframe tbody tr th:only-of-type {\n        vertical-align: middle;\n    }\n\n    .dataframe tbody tr th {\n        vertical-align: top;\n    }\n\n    .dataframe thead th {\n        text-align: right;\n    }\n</style>\n<table border=\"1\" class=\"dataframe\">\n  <thead>\n    <tr style=\"text-align: right;\">\n      <th></th>\n      <th>overall</th>\n      <th>verified</th>\n      <th>reviewTime</th>\n      <th>reviewerID</th>\n      <th>asin</th>\n      <th>style</th>\n      <th>reviewerName</th>\n      <th>reviewText</th>\n      <th>summary</th>\n      <th>unixReviewTime</th>\n      <th>review_clean</th>\n    </tr>\n  </thead>\n  <tbody>\n    <tr>\n      <th>0</th>\n      <td>5.0</td>\n      <td>True</td>\n      <td>11 9, 2012</td>\n      <td>A2M1CU2IRZG0K9</td>\n      <td>0005089549</td>\n      <td>{'Format:': ' VHS Tape'}</td>\n      <td>Terri</td>\n      <td>so sorry i didn't purchase this years ago when...</td>\n      <td>Amazing!</td>\n      <td>1352419200</td>\n      <td>so sorry i didnt purchase this years ago when ...</td>\n    </tr>\n    <tr>\n      <th>1</th>\n      <td>5.0</td>\n      <td>True</td>\n      <td>12 30, 2011</td>\n      <td>AFTUJYISOFHY6</td>\n      <td>0005089549</td>\n      <td>{'Format:': ' VHS Tape'}</td>\n      <td>Melissa D. Abercrombie</td>\n      <td>believe me when i tell you that you will recei...</td>\n      <td>Great Gospel VHS of the Cathedrals!</td>\n      <td>1325203200</td>\n      <td>believe me when i tell you that you will recei...</td>\n    </tr>\n    <tr>\n      <th>2</th>\n      <td>5.0</td>\n      <td>True</td>\n      <td>04 21, 2005</td>\n      <td>A3JVF9Y53BEOGC</td>\n      <td>000503860X</td>\n      <td>{'Format:': ' DVD'}</td>\n      <td>Anthony Thompson</td>\n      <td>i have seen x live many times, both in the ear...</td>\n      <td>A great document of a great band</td>\n      <td>1114041600</td>\n      <td>i have seen x live many times both in the earl...</td>\n    </tr>\n    <tr>\n      <th>3</th>\n      <td>5.0</td>\n      <td>True</td>\n      <td>04 6, 2005</td>\n      <td>A12VPEOEZS1KTC</td>\n      <td>000503860X</td>\n      <td>{'Format:': ' DVD'}</td>\n      <td>JadeRain</td>\n      <td>i was so excited for this!  finally, a live co...</td>\n      <td>YES!!  X LIVE!!</td>\n      <td>1112745600</td>\n      <td>i was so excited for this  finally a live conc...</td>\n    </tr>\n    <tr>\n      <th>4</th>\n      <td>5.0</td>\n      <td>True</td>\n      <td>12 3, 2010</td>\n      <td>ATLZNVLYKP9AZ</td>\n      <td>000503860X</td>\n      <td>{'Format:': ' DVD'}</td>\n      <td>T. Fisher</td>\n      <td>x is one of the best punk bands ever. i don't ...</td>\n      <td>X have still got it</td>\n      <td>1291334400</td>\n      <td>x is one of the best punk bands ever i dont ev...</td>\n    </tr>\n  </tbody>\n</table>\n</div>"
          },
          "metadata": {}
        }
      ]
    },
    {
      "cell_type": "code",
      "source": [
        "def calc_sentiment_with_neutral(overall):\n",
        "    '''encoding the sentiments of the ratings.'''\n",
        "    if overall == 5 or overall == 4:\n",
        "        return 2\n",
        "    elif overall == 1 or overall==2 : \n",
        "        return 0\n",
        "    else:\n",
        "        return 1\n",
        "data['sentiment'] = data['overall'].apply(calc_sentiment_with_neutral)\n",
        "data"
      ],
      "metadata": {
        "execution": {
          "iopub.status.busy": "2023-05-06T16:34:38.419509Z",
          "iopub.execute_input": "2023-05-06T16:34:38.419904Z",
          "iopub.status.idle": "2023-05-06T16:34:38.591854Z",
          "shell.execute_reply.started": "2023-05-06T16:34:38.419870Z",
          "shell.execute_reply": "2023-05-06T16:34:38.590807Z"
        },
        "trusted": true,
        "id": "5JDIFy7LfZcZ",
        "outputId": "9f8c3164-e10b-4cce-e692-60be5cee9d3d"
      },
      "execution_count": null,
      "outputs": [
        {
          "execution_count": 102,
          "output_type": "execute_result",
          "data": {
            "text/plain": "        overall  verified   reviewTime      reviewerID        asin  \\\n0           5.0      True   11 9, 2012  A2M1CU2IRZG0K9  0005089549   \n1           5.0      True  12 30, 2011   AFTUJYISOFHY6  0005089549   \n2           5.0      True  04 21, 2005  A3JVF9Y53BEOGC  000503860X   \n3           5.0      True   04 6, 2005  A12VPEOEZS1KTC  000503860X   \n4           5.0      True   12 3, 2010   ATLZNVLYKP9AZ  000503860X   \n...         ...       ...          ...             ...         ...   \n399995      5.0      True  08 31, 2017  A2RCR40SNWKRH7  B00065W99Y   \n399996      3.0      True  03 21, 2016  A2C8BZOZKGW57H  B000VK4Q4K   \n399997      5.0      True   11 4, 2017  A3QX3TEN2FS31K  B000I97FHY   \n399998      5.0      True  05 31, 2015  A1QZU5ZZJC5QYI  B0035YRCR2   \n399999      5.0      True   12 7, 2017  A29S2AT06P80QR  B00F429Z7S   \n\n                                            style            reviewerName  \\\n0                        {'Format:': ' VHS Tape'}                   Terri   \n1                        {'Format:': ' VHS Tape'}  Melissa D. Abercrombie   \n2                             {'Format:': ' DVD'}        Anthony Thompson   \n3                             {'Format:': ' DVD'}                JadeRain   \n4                             {'Format:': ' DVD'}               T. Fisher   \n...                                           ...                     ...   \n399995                {'Size Name:': ' 1 Gallon'}            The Dirt Guy   \n399996                    {'Style:': ' 85-Lumen'}                 Joel C.   \n399997                       {'Color:': ' white'}            LEROY A DUCK   \n399998        {'Style:': ' Paddle On/Off Switch'}                 Rick C.   \n399999  {'Size:': ' 3/32\"', 'Style:': ' 10# Box'}         Amazon Customer   \n\n                                               reviewText  \\\n0       so sorry i didn't purchase this years ago when...   \n1       believe me when i tell you that you will recei...   \n2       i have seen x live many times, both in the ear...   \n3       i was so excited for this!  finally, a live co...   \n4       x is one of the best punk bands ever. i don't ...   \n...                                                   ...   \n399995  i used this cleaner as part of the first step ...   \n399996  the flashlight is fairly cheaply made and i ha...   \n399997                          does what its suppose to.   \n399998                                              great   \n399999                      so far so good. welds decent.   \n\n                                    summary  unixReviewTime  \\\n0                                  Amazing!      1352419200   \n1       Great Gospel VHS of the Cathedrals!      1325203200   \n2          A great document of a great band      1114041600   \n3                           YES!!  X LIVE!!      1112745600   \n4                       X have still got it      1291334400   \n...                                     ...             ...   \n399995                      Amazing Cleaner      1504137600   \n399996      Once installed it worked great.      1458518400   \n399997                           Works well      1509753600   \n399998                           Five Stars      1433030400   \n399999                           Five Stars      1512604800   \n\n                                             review_clean  sentiment  \n0       so sorry i didnt purchase this years ago when ...          2  \n1       believe me when i tell you that you will recei...          2  \n2       i have seen x live many times both in the earl...          2  \n3       i was so excited for this  finally a live conc...          2  \n4       x is one of the best punk bands ever i dont ev...          2  \n...                                                   ...        ...  \n399995  i used this cleaner as part of the first step ...          2  \n399996  the flashlight is fairly cheaply made and i ha...          1  \n399997                           does what its suppose to          2  \n399998                                              great          2  \n399999                        so far so good welds decent          2  \n\n[400000 rows x 12 columns]",
            "text/html": "<div>\n<style scoped>\n    .dataframe tbody tr th:only-of-type {\n        vertical-align: middle;\n    }\n\n    .dataframe tbody tr th {\n        vertical-align: top;\n    }\n\n    .dataframe thead th {\n        text-align: right;\n    }\n</style>\n<table border=\"1\" class=\"dataframe\">\n  <thead>\n    <tr style=\"text-align: right;\">\n      <th></th>\n      <th>overall</th>\n      <th>verified</th>\n      <th>reviewTime</th>\n      <th>reviewerID</th>\n      <th>asin</th>\n      <th>style</th>\n      <th>reviewerName</th>\n      <th>reviewText</th>\n      <th>summary</th>\n      <th>unixReviewTime</th>\n      <th>review_clean</th>\n      <th>sentiment</th>\n    </tr>\n  </thead>\n  <tbody>\n    <tr>\n      <th>0</th>\n      <td>5.0</td>\n      <td>True</td>\n      <td>11 9, 2012</td>\n      <td>A2M1CU2IRZG0K9</td>\n      <td>0005089549</td>\n      <td>{'Format:': ' VHS Tape'}</td>\n      <td>Terri</td>\n      <td>so sorry i didn't purchase this years ago when...</td>\n      <td>Amazing!</td>\n      <td>1352419200</td>\n      <td>so sorry i didnt purchase this years ago when ...</td>\n      <td>2</td>\n    </tr>\n    <tr>\n      <th>1</th>\n      <td>5.0</td>\n      <td>True</td>\n      <td>12 30, 2011</td>\n      <td>AFTUJYISOFHY6</td>\n      <td>0005089549</td>\n      <td>{'Format:': ' VHS Tape'}</td>\n      <td>Melissa D. Abercrombie</td>\n      <td>believe me when i tell you that you will recei...</td>\n      <td>Great Gospel VHS of the Cathedrals!</td>\n      <td>1325203200</td>\n      <td>believe me when i tell you that you will recei...</td>\n      <td>2</td>\n    </tr>\n    <tr>\n      <th>2</th>\n      <td>5.0</td>\n      <td>True</td>\n      <td>04 21, 2005</td>\n      <td>A3JVF9Y53BEOGC</td>\n      <td>000503860X</td>\n      <td>{'Format:': ' DVD'}</td>\n      <td>Anthony Thompson</td>\n      <td>i have seen x live many times, both in the ear...</td>\n      <td>A great document of a great band</td>\n      <td>1114041600</td>\n      <td>i have seen x live many times both in the earl...</td>\n      <td>2</td>\n    </tr>\n    <tr>\n      <th>3</th>\n      <td>5.0</td>\n      <td>True</td>\n      <td>04 6, 2005</td>\n      <td>A12VPEOEZS1KTC</td>\n      <td>000503860X</td>\n      <td>{'Format:': ' DVD'}</td>\n      <td>JadeRain</td>\n      <td>i was so excited for this!  finally, a live co...</td>\n      <td>YES!!  X LIVE!!</td>\n      <td>1112745600</td>\n      <td>i was so excited for this  finally a live conc...</td>\n      <td>2</td>\n    </tr>\n    <tr>\n      <th>4</th>\n      <td>5.0</td>\n      <td>True</td>\n      <td>12 3, 2010</td>\n      <td>ATLZNVLYKP9AZ</td>\n      <td>000503860X</td>\n      <td>{'Format:': ' DVD'}</td>\n      <td>T. Fisher</td>\n      <td>x is one of the best punk bands ever. i don't ...</td>\n      <td>X have still got it</td>\n      <td>1291334400</td>\n      <td>x is one of the best punk bands ever i dont ev...</td>\n      <td>2</td>\n    </tr>\n    <tr>\n      <th>...</th>\n      <td>...</td>\n      <td>...</td>\n      <td>...</td>\n      <td>...</td>\n      <td>...</td>\n      <td>...</td>\n      <td>...</td>\n      <td>...</td>\n      <td>...</td>\n      <td>...</td>\n      <td>...</td>\n      <td>...</td>\n    </tr>\n    <tr>\n      <th>399995</th>\n      <td>5.0</td>\n      <td>True</td>\n      <td>08 31, 2017</td>\n      <td>A2RCR40SNWKRH7</td>\n      <td>B00065W99Y</td>\n      <td>{'Size Name:': ' 1 Gallon'}</td>\n      <td>The Dirt Guy</td>\n      <td>i used this cleaner as part of the first step ...</td>\n      <td>Amazing Cleaner</td>\n      <td>1504137600</td>\n      <td>i used this cleaner as part of the first step ...</td>\n      <td>2</td>\n    </tr>\n    <tr>\n      <th>399996</th>\n      <td>3.0</td>\n      <td>True</td>\n      <td>03 21, 2016</td>\n      <td>A2C8BZOZKGW57H</td>\n      <td>B000VK4Q4K</td>\n      <td>{'Style:': ' 85-Lumen'}</td>\n      <td>Joel C.</td>\n      <td>the flashlight is fairly cheaply made and i ha...</td>\n      <td>Once installed it worked great.</td>\n      <td>1458518400</td>\n      <td>the flashlight is fairly cheaply made and i ha...</td>\n      <td>1</td>\n    </tr>\n    <tr>\n      <th>399997</th>\n      <td>5.0</td>\n      <td>True</td>\n      <td>11 4, 2017</td>\n      <td>A3QX3TEN2FS31K</td>\n      <td>B000I97FHY</td>\n      <td>{'Color:': ' white'}</td>\n      <td>LEROY A DUCK</td>\n      <td>does what its suppose to.</td>\n      <td>Works well</td>\n      <td>1509753600</td>\n      <td>does what its suppose to</td>\n      <td>2</td>\n    </tr>\n    <tr>\n      <th>399998</th>\n      <td>5.0</td>\n      <td>True</td>\n      <td>05 31, 2015</td>\n      <td>A1QZU5ZZJC5QYI</td>\n      <td>B0035YRCR2</td>\n      <td>{'Style:': ' Paddle On/Off Switch'}</td>\n      <td>Rick C.</td>\n      <td>great</td>\n      <td>Five Stars</td>\n      <td>1433030400</td>\n      <td>great</td>\n      <td>2</td>\n    </tr>\n    <tr>\n      <th>399999</th>\n      <td>5.0</td>\n      <td>True</td>\n      <td>12 7, 2017</td>\n      <td>A29S2AT06P80QR</td>\n      <td>B00F429Z7S</td>\n      <td>{'Size:': ' 3/32\"', 'Style:': ' 10# Box'}</td>\n      <td>Amazon Customer</td>\n      <td>so far so good. welds decent.</td>\n      <td>Five Stars</td>\n      <td>1512604800</td>\n      <td>so far so good welds decent</td>\n      <td>2</td>\n    </tr>\n  </tbody>\n</table>\n<p>400000 rows × 12 columns</p>\n</div>"
          },
          "metadata": {}
        }
      ]
    },
    {
      "cell_type": "code",
      "source": [
        "def calc_two_sentiment(overall):\n",
        "    '''This function encodes the rating 1 and 2 as 0, others as 1'''\n",
        "    if overall >= 3:\n",
        "        return 1\n",
        "    else:\n",
        "        return 0\n",
        "data['sentiment'] = data['overall'].apply(calc_two_sentiment)"
      ],
      "metadata": {
        "execution": {
          "iopub.status.busy": "2023-05-06T16:34:38.593446Z",
          "iopub.execute_input": "2023-05-06T16:34:38.593793Z",
          "iopub.status.idle": "2023-05-06T16:34:38.744493Z",
          "shell.execute_reply.started": "2023-05-06T16:34:38.593762Z",
          "shell.execute_reply": "2023-05-06T16:34:38.743554Z"
        },
        "trusted": true,
        "id": "zaJmG0OjfZcZ"
      },
      "execution_count": null,
      "outputs": []
    },
    {
      "cell_type": "code",
      "source": [
        "df_torch = data.head(100000)\n",
        "df_torch= df_torch.loc[:, ['review_clean', 'sentiment']]\n",
        "train_data, test_data = train_test_split(df_torch, test_size=0.2,random_state = 42)"
      ],
      "metadata": {
        "execution": {
          "iopub.status.busy": "2023-05-06T16:34:38.746784Z",
          "iopub.execute_input": "2023-05-06T16:34:38.747159Z",
          "iopub.status.idle": "2023-05-06T16:34:38.770537Z",
          "shell.execute_reply.started": "2023-05-06T16:34:38.747126Z",
          "shell.execute_reply": "2023-05-06T16:34:38.769694Z"
        },
        "trusted": true,
        "id": "4VipbYTIfZcZ"
      },
      "execution_count": null,
      "outputs": []
    },
    {
      "cell_type": "code",
      "source": [
        "test_data.sentiment.value_counts()"
      ],
      "metadata": {
        "execution": {
          "iopub.status.busy": "2023-05-06T16:35:36.299529Z",
          "iopub.execute_input": "2023-05-06T16:35:36.300488Z",
          "iopub.status.idle": "2023-05-06T16:35:36.308129Z",
          "shell.execute_reply.started": "2023-05-06T16:35:36.300445Z",
          "shell.execute_reply": "2023-05-06T16:35:36.307251Z"
        },
        "trusted": true,
        "id": "EvYUrYwffZcZ",
        "outputId": "4c0e4499-5688-458d-cd59-044fcd01d31c"
      },
      "execution_count": null,
      "outputs": [
        {
          "execution_count": 108,
          "output_type": "execute_result",
          "data": {
            "text/plain": "1    18395\n0     1605\nName: sentiment, dtype: int64"
          },
          "metadata": {}
        }
      ]
    },
    {
      "cell_type": "code",
      "source": [
        "text = train_data['review_clean'].values\n",
        "target = train_data['sentiment'].values"
      ],
      "metadata": {
        "execution": {
          "iopub.status.busy": "2023-05-06T16:35:49.944055Z",
          "iopub.execute_input": "2023-05-06T16:35:49.944431Z",
          "iopub.status.idle": "2023-05-06T16:35:49.950103Z",
          "shell.execute_reply.started": "2023-05-06T16:35:49.944367Z",
          "shell.execute_reply": "2023-05-06T16:35:49.949054Z"
        },
        "trusted": true,
        "id": "pQkwPUXNfZca"
      },
      "execution_count": null,
      "outputs": []
    },
    {
      "cell_type": "code",
      "source": [
        "# using Bert-Tokenizer to tokenize text \n",
        "tokenizer = BertTokenizer.from_pretrained('bert-base-uncased', do_lower_case=True)"
      ],
      "metadata": {
        "execution": {
          "iopub.status.busy": "2023-05-06T16:36:18.195776Z",
          "iopub.execute_input": "2023-05-06T16:36:18.196124Z",
          "iopub.status.idle": "2023-05-06T16:36:18.379969Z",
          "shell.execute_reply.started": "2023-05-06T16:36:18.196097Z",
          "shell.execute_reply": "2023-05-06T16:36:18.379011Z"
        },
        "trusted": true,
        "id": "aBgfznwlfZca"
      },
      "execution_count": null,
      "outputs": []
    },
    {
      "cell_type": "code",
      "source": [],
      "metadata": {
        "trusted": true,
        "id": "Pl14VvUKfZca"
      },
      "execution_count": null,
      "outputs": []
    },
    {
      "cell_type": "code",
      "source": [
        "# to see the original text\n",
        "print(' Original: ', text[0])\n",
        "\n",
        "# to see the tokenized text\n",
        "print('Tokenized: ', tokenizer.tokenize(text[0]))\n",
        "\n",
        "# to see the token ids of text\n",
        "print('Token IDs: ', tokenizer.convert_tokens_to_ids(tokenizer.tokenize(text[0])))"
      ],
      "metadata": {
        "execution": {
          "iopub.status.busy": "2023-05-06T16:36:32.712121Z",
          "iopub.execute_input": "2023-05-06T16:36:32.712492Z",
          "iopub.status.idle": "2023-05-06T16:36:32.718616Z",
          "shell.execute_reply.started": "2023-05-06T16:36:32.712463Z",
          "shell.execute_reply": "2023-05-06T16:36:32.717280Z"
        },
        "trusted": true,
        "id": "6esX85bbfZca",
        "outputId": "e06a831a-332b-472f-dd74-51f970d5d10f"
      },
      "execution_count": null,
      "outputs": [
        {
          "name": "stdout",
          "text": " Original:  thanx\nTokenized:  ['than', '##x']\nToken IDs:  [2084, 2595]\n",
          "output_type": "stream"
        }
      ]
    },
    {
      "cell_type": "code",
      "source": [
        "# To tokenize texts and map the tokens to corresponding IDs\n",
        "input_ids = [] # creating empty list to keep input ids\n",
        "\n",
        "# Loop for each element in text\n",
        "for element in text:\n",
        "\n",
        "    encoded_text = tokenizer.encode(element,add_special_tokens = True, # Add '[CLS]' and '[SEP]'\n",
        "                                         max_length = 128)  # setting all sentences to max_len\n",
        "                                \n",
        "    # firstly I tried it for 512 and I tried for 128, last trial belongs to 128 so values are for 128\n",
        "    # there were no significant difference between 128 or 512 \n",
        "    \n",
        "    # keeping encoded texts as list\n",
        "    input_ids.append(encoded_text)\n",
        "\n",
        "# printing to check\n",
        "print('Original: ', text[0])\n",
        "print('Token IDs:', input_ids[0])"
      ],
      "metadata": {
        "execution": {
          "iopub.status.busy": "2023-05-06T16:36:47.187416Z",
          "iopub.execute_input": "2023-05-06T16:36:47.187784Z",
          "iopub.status.idle": "2023-05-06T16:39:47.623510Z",
          "shell.execute_reply.started": "2023-05-06T16:36:47.187757Z",
          "shell.execute_reply": "2023-05-06T16:39:47.622504Z"
        },
        "trusted": true,
        "id": "O1JvMCasfZca",
        "outputId": "1bbfef37-b4f3-42c8-8834-fefff4131530"
      },
      "execution_count": null,
      "outputs": [
        {
          "name": "stderr",
          "text": "Truncation was not explicitly activated but `max_length` is provided a specific value, please use `truncation=True` to explicitly truncate examples to max length. Defaulting to 'longest_first' truncation strategy. If you encode pairs of sequences (GLUE-style) with the tokenizer you can select this strategy more precisely by providing a specific strategy to `truncation`.\n",
          "output_type": "stream"
        },
        {
          "name": "stdout",
          "text": "Original:  thanx\nToken IDs: [101, 2084, 2595, 102]\n",
          "output_type": "stream"
        }
      ]
    },
    {
      "cell_type": "code",
      "source": [
        "max_length = 128 # for 512, I set it to 512\n",
        "\n",
        "print(f'\\nPadding/truncating all sentences to {max_length} values...')\n",
        "\n",
        "print(f'\\nPadding token: \"{tokenizer.pad_token}\", ID: {tokenizer.pad_token_id}')\n",
        "\n",
        "# pad sequence function for pad tokens and assign zeros for shorter than max lenght\n",
        "input_ids = pad_sequences(input_ids, maxlen=max_length, dtype=\"long\", \n",
        "                          value=0, truncating=\"post\", padding=\"post\")\n",
        "\n",
        "print('\\nDone.')"
      ],
      "metadata": {
        "execution": {
          "iopub.status.busy": "2023-05-06T16:39:47.625399Z",
          "iopub.execute_input": "2023-05-06T16:39:47.625727Z",
          "iopub.status.idle": "2023-05-06T16:39:48.071479Z",
          "shell.execute_reply.started": "2023-05-06T16:39:47.625697Z",
          "shell.execute_reply": "2023-05-06T16:39:48.070433Z"
        },
        "trusted": true,
        "id": "fG4d7qeAfZcb",
        "outputId": "bfbb7d3e-82e7-458d-e5dd-6038a1588332"
      },
      "execution_count": null,
      "outputs": [
        {
          "name": "stdout",
          "text": "\nPadding/truncating all sentences to 128 values...\n\nPadding token: \"[PAD]\", ID: 0\n\nDone.\n",
          "output_type": "stream"
        }
      ]
    },
    {
      "cell_type": "code",
      "source": [
        "# To keep attention masks\n",
        "attention_masks = []\n",
        "\n",
        "# Loop for each element in inputs\n",
        "for element in input_ids:\n",
        "    \n",
        "    #   I assigned the empty tokens to 0 in above cell so if token is 0, setting the mask zero\n",
        "    #   If token is larger than zero it means it is real token ID and set it to 1\n",
        "    att_mask = [int(token_id > 0) for token_id in element]\n",
        "    \n",
        "    # keeping attention masks\n",
        "    attention_masks.append(att_mask)"
      ],
      "metadata": {
        "execution": {
          "iopub.status.busy": "2023-05-06T16:39:48.073285Z",
          "iopub.execute_input": "2023-05-06T16:39:48.073940Z",
          "iopub.status.idle": "2023-05-06T16:39:52.583592Z",
          "shell.execute_reply.started": "2023-05-06T16:39:48.073906Z",
          "shell.execute_reply": "2023-05-06T16:39:52.582634Z"
        },
        "trusted": true,
        "id": "0luTe_g2fZcb"
      },
      "execution_count": null,
      "outputs": []
    },
    {
      "cell_type": "code",
      "source": [
        "train_inputs, validation_inputs, train_labels, validation_labels = train_test_split(input_ids, target, \n",
        "                                                            random_state=42, test_size=0.2)\n",
        "# Splitting masks also with same parameters\n",
        "train_masks, validation_masks, _, _ = train_test_split(attention_masks, target,\n",
        "                                             random_state=42, test_size=0.2)"
      ],
      "metadata": {
        "execution": {
          "iopub.status.busy": "2023-05-06T16:39:52.586205Z",
          "iopub.execute_input": "2023-05-06T16:39:52.586555Z",
          "iopub.status.idle": "2023-05-06T16:39:52.639603Z",
          "shell.execute_reply.started": "2023-05-06T16:39:52.586525Z",
          "shell.execute_reply": "2023-05-06T16:39:52.638576Z"
        },
        "trusted": true,
        "id": "XQWxrKjxfZcb"
      },
      "execution_count": null,
      "outputs": []
    },
    {
      "cell_type": "code",
      "source": [
        "# for inputs\n",
        "train_inputs = torch.tensor(train_inputs)\n",
        "validation_inputs = torch.tensor(validation_inputs)\n",
        "\n",
        "# for target values\n",
        "train_labels = torch.tensor(train_labels)\n",
        "validation_labels = torch.tensor(validation_labels)\n",
        "\n",
        "# for masks\n",
        "train_masks = torch.tensor(train_masks)\n",
        "validation_masks = torch.tensor(validation_masks)"
      ],
      "metadata": {
        "execution": {
          "iopub.status.busy": "2023-05-06T16:39:52.641034Z",
          "iopub.execute_input": "2023-05-06T16:39:52.642748Z",
          "iopub.status.idle": "2023-05-06T16:39:54.620945Z",
          "shell.execute_reply.started": "2023-05-06T16:39:52.642713Z",
          "shell.execute_reply": "2023-05-06T16:39:54.619529Z"
        },
        "trusted": true,
        "id": "BCnTx22mfZcb"
      },
      "execution_count": null,
      "outputs": []
    },
    {
      "cell_type": "code",
      "source": [
        "batch_size = 32 # in tutorial it is recommended that to set 16 or 32. I choose 32 for more batches\n",
        "\n",
        "# creating dataloader for train set\n",
        "train_data = TensorDataset(train_inputs, train_masks, train_labels)\n",
        "train_sampler = RandomSampler(train_data)\n",
        "train_dataloader = DataLoader(train_data, sampler=train_sampler, batch_size=32)\n",
        "\n",
        "# creating dataloader for validation set\n",
        "validation_data = TensorDataset(validation_inputs, validation_masks, validation_labels)\n",
        "validation_sampler = SequentialSampler(validation_data)\n",
        "validation_dataloader = DataLoader(validation_data, sampler=validation_sampler, batch_size=32)"
      ],
      "metadata": {
        "execution": {
          "iopub.status.busy": "2023-05-06T16:39:54.622561Z",
          "iopub.execute_input": "2023-05-06T16:39:54.622895Z",
          "iopub.status.idle": "2023-05-06T16:39:54.630309Z",
          "shell.execute_reply.started": "2023-05-06T16:39:54.622863Z",
          "shell.execute_reply": "2023-05-06T16:39:54.629421Z"
        },
        "trusted": true,
        "id": "i50P7tRqfZcb"
      },
      "execution_count": null,
      "outputs": []
    },
    {
      "cell_type": "code",
      "source": [
        "model = BertForSequenceClassification.from_pretrained(\n",
        "    \"bert-base-uncased\", # use base with lower case\n",
        "    num_labels = 2, # my target is binary so I choose 2   \n",
        "    output_attentions = False, # model does not return attentions weights\n",
        "    output_hidden_states = False) # for returning all hidden-states\n",
        "\n",
        "# inform Pytorch to run model in GPU\n",
        "model.cuda()\n"
      ],
      "metadata": {
        "execution": {
          "iopub.status.busy": "2023-05-06T16:39:54.631956Z",
          "iopub.execute_input": "2023-05-06T16:39:54.632828Z",
          "iopub.status.idle": "2023-05-06T16:39:56.520579Z",
          "shell.execute_reply.started": "2023-05-06T16:39:54.632786Z",
          "shell.execute_reply": "2023-05-06T16:39:56.519524Z"
        },
        "trusted": true,
        "id": "8QMR3dPVfZci",
        "outputId": "281d0a18-1596-4ab9-8911-3a1e3eb894e7"
      },
      "execution_count": null,
      "outputs": [
        {
          "name": "stderr",
          "text": "Some weights of the model checkpoint at bert-base-uncased were not used when initializing BertForSequenceClassification: ['cls.predictions.transform.LayerNorm.bias', 'cls.predictions.transform.dense.bias', 'cls.seq_relationship.weight', 'cls.predictions.bias', 'cls.predictions.transform.dense.weight', 'cls.seq_relationship.bias', 'cls.predictions.decoder.weight', 'cls.predictions.transform.LayerNorm.weight']\n- This IS expected if you are initializing BertForSequenceClassification from the checkpoint of a model trained on another task or with another architecture (e.g. initializing a BertForSequenceClassification model from a BertForPreTraining model).\n- This IS NOT expected if you are initializing BertForSequenceClassification from the checkpoint of a model that you expect to be exactly identical (initializing a BertForSequenceClassification model from a BertForSequenceClassification model).\nSome weights of BertForSequenceClassification were not initialized from the model checkpoint at bert-base-uncased and are newly initialized: ['classifier.bias', 'classifier.weight']\nYou should probably TRAIN this model on a down-stream task to be able to use it for predictions and inference.\n",
          "output_type": "stream"
        },
        {
          "execution_count": 118,
          "output_type": "execute_result",
          "data": {
            "text/plain": "BertForSequenceClassification(\n  (bert): BertModel(\n    (embeddings): BertEmbeddings(\n      (word_embeddings): Embedding(30522, 768, padding_idx=0)\n      (position_embeddings): Embedding(512, 768)\n      (token_type_embeddings): Embedding(2, 768)\n      (LayerNorm): LayerNorm((768,), eps=1e-12, elementwise_affine=True)\n      (dropout): Dropout(p=0.1, inplace=False)\n    )\n    (encoder): BertEncoder(\n      (layer): ModuleList(\n        (0-11): 12 x BertLayer(\n          (attention): BertAttention(\n            (self): BertSelfAttention(\n              (query): Linear(in_features=768, out_features=768, bias=True)\n              (key): Linear(in_features=768, out_features=768, bias=True)\n              (value): Linear(in_features=768, out_features=768, bias=True)\n              (dropout): Dropout(p=0.1, inplace=False)\n            )\n            (output): BertSelfOutput(\n              (dense): Linear(in_features=768, out_features=768, bias=True)\n              (LayerNorm): LayerNorm((768,), eps=1e-12, elementwise_affine=True)\n              (dropout): Dropout(p=0.1, inplace=False)\n            )\n          )\n          (intermediate): BertIntermediate(\n            (dense): Linear(in_features=768, out_features=3072, bias=True)\n            (intermediate_act_fn): GELUActivation()\n          )\n          (output): BertOutput(\n            (dense): Linear(in_features=3072, out_features=768, bias=True)\n            (LayerNorm): LayerNorm((768,), eps=1e-12, elementwise_affine=True)\n            (dropout): Dropout(p=0.1, inplace=False)\n          )\n        )\n      )\n    )\n    (pooler): BertPooler(\n      (dense): Linear(in_features=768, out_features=768, bias=True)\n      (activation): Tanh()\n    )\n  )\n  (dropout): Dropout(p=0.1, inplace=False)\n  (classifier): Linear(in_features=768, out_features=2, bias=True)\n)"
          },
          "metadata": {}
        }
      ]
    },
    {
      "cell_type": "code",
      "source": [
        "params = list(model.named_parameters())\n",
        "\n",
        "print('The BERT model has {:} different named parameters.\\n'.format(len(params)))\n",
        "\n",
        "print('==== Embedding Layer ====\\n')\n",
        "\n",
        "for p in params[0:5]:\n",
        "    print(\"{:<55} {:>12}\".format(p[0], str(tuple(p[1].size()))))\n",
        "\n",
        "print('\\n==== First Transformer ====\\n')\n",
        "\n",
        "for p in params[5:21]:\n",
        "    print(\"{:<55} {:>12}\".format(p[0], str(tuple(p[1].size()))))\n",
        "\n",
        "print('\\n==== Output Layer ====\\n')\n",
        "\n",
        "for p in params[-4:]:\n",
        "    print(\"{:<55} {:>12}\".format(p[0], str(tuple(p[1].size()))))"
      ],
      "metadata": {
        "execution": {
          "iopub.status.busy": "2023-05-06T16:39:56.522139Z",
          "iopub.execute_input": "2023-05-06T16:39:56.523004Z",
          "iopub.status.idle": "2023-05-06T16:39:56.531868Z",
          "shell.execute_reply.started": "2023-05-06T16:39:56.522970Z",
          "shell.execute_reply": "2023-05-06T16:39:56.530856Z"
        },
        "trusted": true,
        "id": "P7TXjk0qfZci",
        "outputId": "57b32515-02e2-44a2-ced9-cd9d2d6d775f"
      },
      "execution_count": null,
      "outputs": [
        {
          "name": "stdout",
          "text": "The BERT model has 201 different named parameters.\n\n==== Embedding Layer ====\n\nbert.embeddings.word_embeddings.weight                  (30522, 768)\nbert.embeddings.position_embeddings.weight                (512, 768)\nbert.embeddings.token_type_embeddings.weight                (2, 768)\nbert.embeddings.LayerNorm.weight                              (768,)\nbert.embeddings.LayerNorm.bias                                (768,)\n\n==== First Transformer ====\n\nbert.encoder.layer.0.attention.self.query.weight          (768, 768)\nbert.encoder.layer.0.attention.self.query.bias                (768,)\nbert.encoder.layer.0.attention.self.key.weight            (768, 768)\nbert.encoder.layer.0.attention.self.key.bias                  (768,)\nbert.encoder.layer.0.attention.self.value.weight          (768, 768)\nbert.encoder.layer.0.attention.self.value.bias                (768,)\nbert.encoder.layer.0.attention.output.dense.weight        (768, 768)\nbert.encoder.layer.0.attention.output.dense.bias              (768,)\nbert.encoder.layer.0.attention.output.LayerNorm.weight        (768,)\nbert.encoder.layer.0.attention.output.LayerNorm.bias          (768,)\nbert.encoder.layer.0.intermediate.dense.weight           (3072, 768)\nbert.encoder.layer.0.intermediate.dense.bias                 (3072,)\nbert.encoder.layer.0.output.dense.weight                 (768, 3072)\nbert.encoder.layer.0.output.dense.bias                        (768,)\nbert.encoder.layer.0.output.LayerNorm.weight                  (768,)\nbert.encoder.layer.0.output.LayerNorm.bias                    (768,)\n\n==== Output Layer ====\n\nbert.pooler.dense.weight                                  (768, 768)\nbert.pooler.dense.bias                                        (768,)\nclassifier.weight                                           (2, 768)\nclassifier.bias                                                 (2,)\n",
          "output_type": "stream"
        }
      ]
    },
    {
      "cell_type": "code",
      "source": [
        "optimizer = AdamW(model.parameters(),lr = 2e-5, eps = 1e-8)"
      ],
      "metadata": {
        "execution": {
          "iopub.status.busy": "2023-05-06T16:40:07.369974Z",
          "iopub.execute_input": "2023-05-06T16:40:07.370533Z",
          "iopub.status.idle": "2023-05-06T16:40:07.378314Z",
          "shell.execute_reply.started": "2023-05-06T16:40:07.370501Z",
          "shell.execute_reply": "2023-05-06T16:40:07.377435Z"
        },
        "trusted": true,
        "id": "GbiEiAwVfZcj"
      },
      "execution_count": null,
      "outputs": []
    },
    {
      "cell_type": "code",
      "source": [
        "# 5 epoches is too much for this model, but to get better results and make sure model is learning or not, I choose it\n",
        "epochs = 10\n",
        "\n",
        "# number of steps data loader times epoch number\n",
        "total_steps = len(train_dataloader) * epochs\n",
        "\n",
        "# setting scheduler\n",
        "scheduler = get_linear_schedule_with_warmup(optimizer, num_warmup_steps = 0,\n",
        "                                            num_training_steps = total_steps)"
      ],
      "metadata": {
        "execution": {
          "iopub.status.busy": "2023-05-06T16:40:22.443851Z",
          "iopub.execute_input": "2023-05-06T16:40:22.444403Z",
          "iopub.status.idle": "2023-05-06T16:40:22.449839Z",
          "shell.execute_reply.started": "2023-05-06T16:40:22.444340Z",
          "shell.execute_reply": "2023-05-06T16:40:22.448955Z"
        },
        "trusted": true,
        "id": "kjVFkVWofZcj"
      },
      "execution_count": null,
      "outputs": []
    },
    {
      "cell_type": "code",
      "source": [
        "def flat_accuracy(pred, true):\n",
        "    '''function for flatten accuracy'''\n",
        "    pred_flat = np.argmax(pred, axis=1).flatten()\n",
        "    labels_flat = true.flatten()\n",
        "    return np.sum(pred_flat == labels_flat) / len(labels_flat)"
      ],
      "metadata": {
        "execution": {
          "iopub.status.busy": "2023-05-06T16:40:44.460754Z",
          "iopub.execute_input": "2023-05-06T16:40:44.461107Z",
          "iopub.status.idle": "2023-05-06T16:40:44.468059Z",
          "shell.execute_reply.started": "2023-05-06T16:40:44.461078Z",
          "shell.execute_reply": "2023-05-06T16:40:44.466271Z"
        },
        "trusted": true,
        "id": "plBQq8OmfZcj"
      },
      "execution_count": null,
      "outputs": []
    },
    {
      "cell_type": "code",
      "source": [
        "def format_time(elapsed):\n",
        "    '''\n",
        "    to see time taking second and returns time as string with hour, min, sec\n",
        "    '''\n",
        "    elapsed_rounded = int(round((elapsed)))\n",
        "    return str(datetime.timedelta(seconds=elapsed_rounded))"
      ],
      "metadata": {
        "execution": {
          "iopub.status.busy": "2023-05-06T16:40:45.217859Z",
          "iopub.execute_input": "2023-05-06T16:40:45.218212Z",
          "iopub.status.idle": "2023-05-06T16:40:45.223581Z",
          "shell.execute_reply.started": "2023-05-06T16:40:45.218182Z",
          "shell.execute_reply": "2023-05-06T16:40:45.222447Z"
        },
        "trusted": true,
        "id": "E6wcCTzMfZcj"
      },
      "execution_count": null,
      "outputs": []
    },
    {
      "cell_type": "code",
      "source": [
        "import torch\n",
        "\n",
        "# If GPU is available setting to use this\n",
        "if torch.cuda.is_available():    \n",
        "\n",
        "    # Setting the PyTorch to use GPU as memory\n",
        "    device = torch.device(\"cuda\")\n",
        "\n",
        "    print('There are %d GPU(s) available.' % torch.cuda.device_count())\n",
        "\n",
        "    print('We will use the GPU:', torch.cuda.get_device_name(0))\n",
        "\n",
        "# To check is GPU is not found\n",
        "else:\n",
        "    print('No GPU available, using the CPU instead.')\n",
        "    device = torch.device(\"cpu\")"
      ],
      "metadata": {
        "execution": {
          "iopub.status.busy": "2023-05-06T15:54:21.287579Z",
          "iopub.execute_input": "2023-05-06T15:54:21.287926Z",
          "iopub.status.idle": "2023-05-06T15:54:21.294956Z",
          "shell.execute_reply.started": "2023-05-06T15:54:21.287898Z",
          "shell.execute_reply": "2023-05-06T15:54:21.293781Z"
        },
        "trusted": true,
        "id": "PfUhKQTHfZck",
        "outputId": "66a6da3d-dfd6-4260-c1d4-91c0b5588f80"
      },
      "execution_count": null,
      "outputs": [
        {
          "name": "stdout",
          "text": "There are 1 GPU(s) available.\nWe will use the GPU: Tesla P100-PCIE-16GB\n",
          "output_type": "stream"
        }
      ]
    },
    {
      "cell_type": "code",
      "source": [
        "# seed value for reproducibility\n",
        "seed_no = 42\n",
        "\n",
        "random.seed(seed_no)\n",
        "np.random.seed(seed_no)\n",
        "torch.manual_seed(seed_no)\n",
        "torch.cuda.manual_seed_all(seed_no)\n",
        "\n",
        "# Keeping accuracy, loss and timing values\n",
        "training_stats = []\n",
        "\n",
        "# to see the total time for all epoches\n",
        "total_t0 = time.time()\n",
        "\n",
        "# Training loop\n",
        "for epoch_i in range(0, epochs):\n",
        "    \n",
        "    # to see results in proper way\n",
        "    print(\"\")\n",
        "    print('======== Epoch {:} / {:} ========'.format(epoch_i + 1, epochs))\n",
        "    print('Training...')\n",
        "\n",
        "    # to see the time for each epoch\n",
        "    t0 = time.time()\n",
        "\n",
        "    # cleaning loss for every epoch\n",
        "    total_train_loss = 0\n",
        "  \n",
        "    model.train() # not to perform training, it changes the mode\n",
        "\n",
        "    # each batch of training data\n",
        "    for step, batch in enumerate(train_dataloader):\n",
        "\n",
        "        # setting progress for each 40 batches\n",
        "        if step % 40 == 0 and not step == 0:\n",
        "            elapsed = format_time(time.time() - t0)\n",
        "            \n",
        "             # printing progress of results\n",
        "            print('  Batch {:>5,}  of  {:>5,}.    Elapsed: {:}.'.format(step, len(train_dataloader), elapsed))\n",
        "        # unpack the batch for each tensor with 'to' function \n",
        "        b_input_ids = batch[0].to(device)\n",
        "        b_input_mask = batch[1].to(device)\n",
        "        b_labels = batch[2].to(device)\n",
        "\n",
        "        # before backward pass, clearing previous gradients\n",
        "        model.zero_grad()        \n",
        "\n",
        "        # forward pass which calculates the model on this training batch \n",
        "        # it returns loss on model outputs as logits\n",
        "        loss, logits = model(b_input_ids, \n",
        "                             token_type_ids=None, \n",
        "                             attention_mask=b_input_mask, \n",
        "                             labels=b_labels)\n",
        "\n",
        "        # adding training loss for each steps \n",
        "        total_train_loss += loss.item()\n",
        "\n",
        "        # backward pass for gradient calculates \n",
        "        loss.backward()\n",
        "\n",
        "        # to prevent 'exploding gradient' problem, clip_grad_norm tool usage\n",
        "        torch.nn.utils.clip_grad_norm_(model.parameters(), 1.0)\n",
        "\n",
        "        # AdamW optimizer for learning rate etc.\n",
        "        optimizer.step()\n",
        "\n",
        "        # new learning rate\n",
        "        scheduler.step()\n",
        "\n",
        "    # mean of the all losses of training data\n",
        "    avg_train_loss = total_train_loss / len(train_dataloader)            \n",
        "    \n",
        "    # calculates time values \n",
        "    training_time = format_time(time.time() - t0)\n",
        "    \n",
        "    # printing training results\n",
        "    print(\"\")\n",
        "    print(\"  Average training loss: {0:.2f}\".format(avg_train_loss))\n",
        "    print(\"  Training epoch took: {:}\".format(training_time))\n",
        "    # for printing in proper way \n",
        "    print(\"\")\n",
        "    print(\"Running Validation...\")\n",
        "\n",
        "    t0 = time.time()\n",
        "\n",
        "    model.eval() # changing mode from train to evaluation\n",
        "\n",
        "    # for keeping values \n",
        "    total_eval_accuracy = 0\n",
        "    total_eval_loss = 0\n",
        "    nb_eval_steps = 0\n",
        "\n",
        "    # loop for each batch\n",
        "    for batch in validation_dataloader:\n",
        "        \n",
        "        # unpack the batch for each tensor with 'to' function \n",
        "        b_input_ids = batch[0].to(device)\n",
        "        b_input_mask = batch[1].to(device)\n",
        "        b_labels = batch[2].to(device)\n",
        "        \n",
        "        # no zero_grad bec. it is only needed for training part\n",
        "        with torch.no_grad():        \n",
        "\n",
        "            # forward pass and calculating logit predictions \n",
        "            (loss, logits) = model(b_input_ids, \n",
        "                                   token_type_ids=None, \n",
        "                                   attention_mask=b_input_mask,\n",
        "                                   labels=b_labels)\n",
        "            \n",
        "        # keepong validation loss values\n",
        "        total_eval_loss += loss.item()\n",
        "\n",
        "        # sent logits and labels to CPU\n",
        "        logits = logits.detach().cpu().numpy()\n",
        "        label_ids = b_labels.to('cpu').numpy()\n",
        "\n",
        "        # for all batches keeping the accuracy\n",
        "        total_eval_accuracy += flat_accuracy(logits, label_ids)\n",
        "        \n",
        "\n",
        "    # printing final accuracy value\n",
        "    avg_val_accuracy = total_eval_accuracy / len(validation_dataloader)\n",
        "    print(\"  Accuracy: {0:.2f}\".format(avg_val_accuracy))\n",
        "\n",
        "    # mean loss for all batches\n",
        "    avg_val_loss = total_eval_loss / len(validation_dataloader)\n",
        "    \n",
        "    # time measurement\n",
        "    validation_time = format_time(time.time() - t0)\n",
        "    \n",
        "    print(\"  Validation Loss: {0:.2f}\".format(avg_val_loss))\n",
        "    print(\"  Validation took: {:}\".format(validation_time))\n",
        "\n",
        "    # keeping all results from this epoch\n",
        "    training_stats.append(\n",
        "        {\n",
        "            'epoch': epoch_i + 1,\n",
        "            'Training Loss': avg_train_loss,\n",
        "            'Valid. Loss': avg_val_loss,\n",
        "            'Valid. Accur.': avg_val_accuracy,\n",
        "            'Training Time': training_time,\n",
        "            'Validation Time': validation_time\n",
        "        }\n",
        "    )\n",
        "\n",
        "print(\"\")\n",
        "print(\"Training complete!\")\n",
        "\n",
        "print(\"Total training took {:} (h:mm:ss)\".format(format_time(time.time()-total_t0)))"
      ],
      "metadata": {
        "id": "k4gN9YqhfZcl"
      },
      "execution_count": null,
      "outputs": []
    },
    {
      "cell_type": "markdown",
      "source": [
        "Так как это все происходило довольно долго. Я просто вставлю вывод тут так как это все занимало больше половины дня\n",
        "\n",
        "Running Validation...\n",
        "  Accuracy: 0.95\n",
        "  Validation Loss: 0.12\n",
        "  \n",
        "  \n",
        "Running Validation...\n",
        "  Accuracy: 0.95\n",
        "  Validation Loss: 0.15\n",
        "  \n",
        "  \n",
        "Running Validation...\n",
        "  Accuracy: 0.95\n",
        "  Validation Loss: 0.18\n",
        "  \n",
        "  \n",
        "Running Validation...\n",
        "  Accuracy: 0.95\n",
        "  Validation Loss: 0.25\n",
        "  \n",
        "  \n",
        "Running Validation...\n",
        "  Accuracy: 0.95\n",
        "  Validation Loss: 0.28"
      ],
      "metadata": {
        "id": "WlPV2VOGfZcl"
      }
    },
    {
      "cell_type": "markdown",
      "source": [
        "Как видно BERT модель самая лучшая, но оно и понятно так как она основана на трансформерах и учитывает последовательность слов в тексте и их контекст. Теперь надо показать как проявили себя модели"
      ],
      "metadata": {
        "id": "SMqgXyKPfZcm"
      }
    },
    {
      "cell_type": "code",
      "source": [
        "df_results = pd.DataFrame(columns=[\"Model\", \"val_loss\",'val_acc']) # to see all results"
      ],
      "metadata": {
        "execution": {
          "iopub.status.busy": "2023-05-06T17:31:14.688318Z",
          "iopub.execute_input": "2023-05-06T17:31:14.689219Z",
          "iopub.status.idle": "2023-05-06T17:31:14.699265Z",
          "shell.execute_reply.started": "2023-05-06T17:31:14.689185Z",
          "shell.execute_reply": "2023-05-06T17:31:14.698256Z"
        },
        "trusted": true,
        "id": "u1IwtCN5fZcm"
      },
      "execution_count": null,
      "outputs": []
    },
    {
      "cell_type": "code",
      "source": [
        "df_results = df_results.append({       # written in results \n",
        "     \"Model\": 'CNN-3-Conv' ,\"val_loss\": 0.6569  ,'val_acc' : 0.9309}, ignore_index=True)\n",
        "df_results = df_results.append({       # written in results \n",
        "     \"Model\": 'CNN-2-Conv' ,\"val_loss\": 0.4293  ,'val_acc' : 0.9299}, ignore_index=True)\n",
        "df_results = df_results.append({       # written in results \n",
        "     \"Model\": 'RNN-2-GRU' ,\"val_loss\": 0.3738  ,'val_acc' : 0.9071}, ignore_index=True)\n",
        "df_results = df_results.append({       # written in results \n",
        "     \"Model\": 'RNN-2-LSTM' ,\"val_loss\": 0.2059  ,'val_acc' : 0.9209}, ignore_index=True)\n",
        "df_results = df_results.append({       # written in results \n",
        "     \"Model\": 'BERT' ,\"val_loss\": 0.196  ,'val_acc' : 0.95}, ignore_index=True)"
      ],
      "metadata": {
        "execution": {
          "iopub.status.busy": "2023-05-06T17:31:14.943670Z",
          "iopub.execute_input": "2023-05-06T17:31:14.944040Z",
          "iopub.status.idle": "2023-05-06T17:31:14.959193Z",
          "shell.execute_reply.started": "2023-05-06T17:31:14.944008Z",
          "shell.execute_reply": "2023-05-06T17:31:14.958238Z"
        },
        "trusted": true,
        "id": "T2evu657fZcm",
        "outputId": "a82251a0-36ad-430d-c731-afeece294576"
      },
      "execution_count": null,
      "outputs": [
        {
          "name": "stderr",
          "text": "/tmp/ipykernel_31/2118625616.py:1: FutureWarning: The frame.append method is deprecated and will be removed from pandas in a future version. Use pandas.concat instead.\n  df_results = df_results.append({       # written in results\n/tmp/ipykernel_31/2118625616.py:3: FutureWarning: The frame.append method is deprecated and will be removed from pandas in a future version. Use pandas.concat instead.\n  df_results = df_results.append({       # written in results\n/tmp/ipykernel_31/2118625616.py:5: FutureWarning: The frame.append method is deprecated and will be removed from pandas in a future version. Use pandas.concat instead.\n  df_results = df_results.append({       # written in results\n/tmp/ipykernel_31/2118625616.py:7: FutureWarning: The frame.append method is deprecated and will be removed from pandas in a future version. Use pandas.concat instead.\n  df_results = df_results.append({       # written in results\n/tmp/ipykernel_31/2118625616.py:9: FutureWarning: The frame.append method is deprecated and will be removed from pandas in a future version. Use pandas.concat instead.\n  df_results = df_results.append({       # written in results\n",
          "output_type": "stream"
        }
      ]
    },
    {
      "cell_type": "code",
      "source": [
        "plt.figure(figsize=(10,6))\n",
        "ax = sns.barplot(x='Model', y= 'val_loss',data=df_results)"
      ],
      "metadata": {
        "execution": {
          "iopub.status.busy": "2023-05-06T17:31:24.061165Z",
          "iopub.execute_input": "2023-05-06T17:31:24.061529Z",
          "iopub.status.idle": "2023-05-06T17:31:24.317224Z",
          "shell.execute_reply.started": "2023-05-06T17:31:24.061499Z",
          "shell.execute_reply": "2023-05-06T17:31:24.316296Z"
        },
        "trusted": true,
        "id": "1G7fe-xhfZcm",
        "outputId": "799af43e-3cc7-4904-fcbc-8a9896cb6643"
      },
      "execution_count": null,
      "outputs": [
        {
          "output_type": "display_data",
          "data": {
            "text/plain": "<Figure size 1000x600 with 1 Axes>",
            "image/png": "[encoded data removed]"
          },
          "metadata": {}
        }
      ]
    },
    {
      "cell_type": "code",
      "source": [
        "plt.figure(figsize=(10,6))\n",
        "ax = sns.barplot(x='Model', y= 'val_acc',data=df_results)"
      ],
      "metadata": {
        "execution": {
          "iopub.status.busy": "2023-05-06T17:32:00.808690Z",
          "iopub.execute_input": "2023-05-06T17:32:00.809037Z",
          "iopub.status.idle": "2023-05-06T17:32:01.033057Z",
          "shell.execute_reply.started": "2023-05-06T17:32:00.809010Z",
          "shell.execute_reply": "2023-05-06T17:32:01.032174Z"
        },
        "trusted": true,
        "id": "c5jB6TrpfZcn",
        "outputId": "10f014e7-e063-4109-9622-bfe50b6188b3"
      },
      "execution_count": null,
      "outputs": [
        {
          "output_type": "display_data",
          "data": {
            "text/plain": "<Figure size 1000x600 with 1 Axes>",
            "image/png": "[encoded data removed]"
          },
          "metadata": {}
        }
      ]
    },
    {
      "cell_type": "code",
      "source": [],
      "metadata": {
        "id": "8TijzDs_fZcn"
      },
      "execution_count": null,
      "outputs": []
    }
  ]
}